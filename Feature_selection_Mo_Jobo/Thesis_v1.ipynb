{
 "cells": [
  {
   "cell_type": "code",
   "execution_count": null,
   "metadata": {
    "id": "Od0n8OpWbaNi"
   },
   "outputs": [],
   "source": [
    "import numpy as np\n",
    "import pandas as pd\n",
    "import matplotlib.pyplot as plt  #for plotting purpose\n",
    "#from sklearn.preprocessing import linear_model   #for implementing multiple linear regression"
   ]
  },
  {
   "cell_type": "code",
   "execution_count": null,
   "metadata": {
    "id": "D3O4A_4KKITY"
   },
   "outputs": [],
   "source": []
  },
  {
   "cell_type": "code",
   "execution_count": null,
   "metadata": {
    "colab": {
     "base_uri": "https://localhost:8080/"
    },
    "id": "ShBrzjxWok_N",
    "outputId": "af7b9eee-430c-40e1-8004-cb7cae77b02a"
   },
   "outputs": [
    {
     "name": "stdout",
     "output_type": "stream",
     "text": [
      "Requirement already satisfied: ta in /usr/local/lib/python3.7/dist-packages (0.7.0)\n",
      "Requirement already satisfied: pandas in /usr/local/lib/python3.7/dist-packages (from ta) (1.1.5)\n",
      "Requirement already satisfied: numpy in /usr/local/lib/python3.7/dist-packages (from ta) (1.19.5)\n",
      "Requirement already satisfied: pytz>=2017.2 in /usr/local/lib/python3.7/dist-packages (from pandas->ta) (2018.9)\n",
      "Requirement already satisfied: python-dateutil>=2.7.3 in /usr/local/lib/python3.7/dist-packages (from pandas->ta) (2.8.2)\n",
      "Requirement already satisfied: six>=1.5 in /usr/local/lib/python3.7/dist-packages (from python-dateutil>=2.7.3->pandas->ta) (1.15.0)\n",
      "Requirement already satisfied: stockstats in /usr/local/lib/python3.7/dist-packages (0.3.2)\n",
      "Requirement already satisfied: pandas>=0.18.1 in /usr/local/lib/python3.7/dist-packages (from stockstats) (1.1.5)\n",
      "Requirement already satisfied: int-date>=0.1.7 in /usr/local/lib/python3.7/dist-packages (from stockstats) (0.1.8)\n",
      "Requirement already satisfied: numpy>=1.9.2 in /usr/local/lib/python3.7/dist-packages (from stockstats) (1.19.5)\n",
      "Requirement already satisfied: python-dateutil>=2.4.2 in /usr/local/lib/python3.7/dist-packages (from int-date>=0.1.7->stockstats) (2.8.2)\n",
      "Requirement already satisfied: six>=1.9.0 in /usr/local/lib/python3.7/dist-packages (from int-date>=0.1.7->stockstats) (1.15.0)\n",
      "Requirement already satisfied: pytz>=2017.2 in /usr/local/lib/python3.7/dist-packages (from pandas>=0.18.1->stockstats) (2018.9)\n"
     ]
    }
   ],
   "source": [
    "!pip install ta\n",
    "!pip install stockstats"
   ]
  },
  {
   "cell_type": "code",
   "execution_count": null,
   "metadata": {
    "id": "DxRvafYvcnOA"
   },
   "outputs": [],
   "source": [
    "from ta.trend import *\n",
    "from ta.volatility import *\n",
    "from ta.momentum import ROCIndicator\n",
    "from ta.momentum import RSIIndicator\n",
    "from ta.momentum import WilliamsRIndicator\n",
    "from ta.volatility import BollingerBands\n",
    "from ta.volume import MFIIndicator\n",
    "from ta.volume import ChaikinMoneyFlowIndicator\n",
    "from ta.trend import WMAIndicator\n",
    "from ta.trend import TRIXIndicator\n",
    "from ta.trend import DPOIndicator\n",
    "from ta.trend import KSTIndicator\n",
    "from ta.trend import ADXIndicator\n",
    "from ta.volume import ForceIndexIndicator\n",
    "from ta.volume import EaseOfMovementIndicator\n",
    "from ta.volatility import AverageTrueRange\n",
    "import time\n",
    "from stockstats import StockDataFrame as sdf\n",
    "from tqdm.auto import tqdm\n",
    "import numpy as np\n",
    "\n",
    "# Class setup indicators with ta library:\n",
    "class TechnicalIndicator():\n",
    "    def __init__(self, df):\n",
    "        self.df = df\n",
    "        # TODO initialize df here\n",
    "        self.get_MACD()\n",
    "\n",
    "    def get_roc(self, col_name: str, window: int):\n",
    "        indicator_roc = ROCIndicator(col_name, window)\n",
    "        self.df['roc_{}_{}'.format(window, col_name)] = indicator_roc.roc()\n",
    "\n",
    "    def get_rsi(self, col_name: str, window: int):\n",
    "        indicator_rsi = RSIIndicator(col_name, window)\n",
    "        self.df['rsi_{}_{}'.format(window, col_name)] = indicator_rsi.rsi()\n",
    "\n",
    "    def get_mfi(self, high: str, low: str, close: str, volume: str, window: int):\n",
    "        indicator_mfi = MFIIndicator(high, low, close, volume, window)\n",
    "        self.df['mfi_{}'.format(window)] = indicator_mfi.money_flow_index()\n",
    "\n",
    "    def get_cmf(self, high: str, low: str, close: str, volume: str, window: int):\n",
    "        indicator_cmf = ChaikinMoneyFlowIndicator(high, low, close, volume, window)\n",
    "        self.df['cmf_{}'.format(window)] = indicator_cmf.chaikin_money_flow()\n",
    "\n",
    "    def get_wma(self, col_name: str, window: int):\n",
    "        indicator_wma = WMAIndicator(col_name, window)\n",
    "        self.df['wma_{}_{}'.format(window, col_name)] = indicator_wma.wma()\n",
    "\n",
    "    def get_trix(self, close: str, window: int):\n",
    "        indicator_trix = TRIXIndicator(close, window)\n",
    "        self.df['trix_{}'.format(window)] = indicator_trix.trix()\n",
    "\n",
    "    def get_dpo(self, close: str, window: int):\n",
    "        indicator_dpo = DPOIndicator(close, window)\n",
    "        self.df['dpo_{}'.format(window)] = indicator_dpo.dpo()\n",
    "\n",
    "    def get_kst(self, close: str, roc1: int, roc2: int, roc3: int, roc4: int, window1: int, window2: int, window3: int,\n",
    "                window4: int, nsig: int):\n",
    "        indicator_kst = KSTIndicator(close, roc1, roc2, roc3, roc4, window1, window2, window3, window4, nsig)\n",
    "        self.df['kst'] = indicator_kst.kst()\n",
    "\n",
    "    def get_adx(self, high: str, low: str, close: str, window: int):\n",
    "        indicator_adx = ADXIndicator(high, low, close, window)\n",
    "        self.df['adx_{}'.format(window)] = indicator_adx.adx()\n",
    "\n",
    "    def get_fi(self, close: str, volume: str, window: int):\n",
    "        indicator_fi = ForceIndexIndicator(close, volume, window)\n",
    "        self.df['fi_{}'.format(window)] = indicator_fi.force_index()\n",
    "\n",
    "    def get_emv(self, high: str, low: str, volume: str, window: int):\n",
    "        indicator_emv = EaseOfMovementIndicator(high, low, volume, window)\n",
    "        self.df['emv_{}'.format(window)] = indicator_emv.ease_of_movement()\n",
    "\n",
    "    def get_bb(self, close: str, window: int):\n",
    "        indicator_bb = BollingerBands(close, window)\n",
    "        self.df['bb_bbm'] = indicator_bb.bollinger_mavg()\n",
    "        self.df['bb_bbh'] = indicator_bb.bollinger_hband()\n",
    "        self.df['bb_bbl'] = indicator_bb.bollinger_lband()\n",
    "        self.df['bb_bbhi'] = indicator_bb.bollinger_hband_indicator()\n",
    "        self.df['bb_bbli'] = indicator_bb.bollinger_lband_indicator()\n",
    "        self.df['bb_bbhi'] = indicator_bb.bollinger_hband()\n",
    "        self.df['bb_bbw'] = indicator_bb.bollinger_wband()\n",
    "        self.df['bb_bbp'] = indicator_bb.bollinger_pband()\n",
    "\n",
    "    def get_atr(self, high: str, low: str, close: str, window: int):\n",
    "        indicator_atr = AverageTrueRange(high, low, close, window)\n",
    "        self.df['atr_{}'.format(window)] = indicator_atr.average_true_range()\n",
    "\n",
    "    def get_williamR(self, col_name: str, intervals: int):\n",
    "        \"\"\"\n",
    "        both libs gave same result\n",
    "        Momentum indicator\n",
    "        \"\"\"\n",
    "        stime = time.time()\n",
    "        print(\"Calculating WilliamR\")\n",
    "        # df_ss = sdf.retype(df)\n",
    "        for i in tqdm(intervals):\n",
    "            # df['wr_'+str(i)] = df_ss['wr_'+str(i)]\n",
    "            self.df[\"wr_\" + str(i)] = WilliamsRIndicator(self.df['high'], self.df['low'], self.df['close'], i, fillna=True).williams_r()\n",
    "\n",
    "    def get_MACD(self):\n",
    "        \"\"\"\n",
    "        Not used\n",
    "        Same for both\n",
    "        calculated for same 12 and 26 periods on close only. Not different periods.\n",
    "        creates colums macd, macds, macdh\n",
    "        \"\"\"\n",
    "        print(\"Calculating MACD\")\n",
    "        df_ss = sdf.retype(self.df)\n",
    "        self.df['macd'] = df_ss['macd']\n",
    "\n",
    "\n",
    "    def get_SMA(self, col_name: str, intervals: int):\n",
    "        \"\"\"\n",
    "        Momentum indicator\n",
    "        \"\"\"\n",
    "        stime = time.time()\n",
    "        print(\"Calculating SMA\")\n",
    "        df_ss = sdf.retype(self.df)\n",
    "        for i in tqdm(intervals):\n",
    "            self.df[col_name + '_sma_' + str(i)] = df_ss[col_name + '_' + str(i) + '_sma']\n",
    "            del self.df[col_name + '_' + str(i) + '_sma']\n",
    "\n",
    "    def get_EMA(self, col_name: str, intervals: int):  # not working?\n",
    "        \"\"\"\n",
    "        Needs validation\n",
    "        Momentum indicator\n",
    "        \"\"\"\n",
    "        stime = time.time()\n",
    "        print(\"Calculating EMA\")\n",
    "        df_ss = sdf.retype(self.df)\n",
    "        for i in tqdm(intervals):\n",
    "            self.df['ema_' + str(i)] = df_ss[col_name + '_' + str(i) + '_ema']\n",
    "            del self.df[col_name + '_' + str(i) + '_ema']\n",
    "            # df[\"ema_\"+str(intervals[0])+'_1'] = ema_indicator(df['close'], i, fillna=True)\n",
    "\n",
    "    def get_CMO(self, col_name: str, intervals: int):\n",
    "        \"\"\"\n",
    "        Chande Momentum Oscillator\n",
    "        As per https://www.fidelity.com/learning-center/trading-investing/technical-analysis/technical-indicator-guide/cmo\n",
    "        CMO = 100 * ((Sum(ups) - Sum(downs))/ ( (Sum(ups) + Sum(downs) ) )\n",
    "        range = +100 to -100\n",
    "        params: df -> dataframe with financial instrument history\n",
    "                col_name -> column name for which CMO is to be calculated\n",
    "                intervals -> list of periods for which to calculated\n",
    "        return: None (adds the result in a column)\n",
    "        \"\"\"\n",
    "\n",
    "        print(\"Calculating CMO\")\n",
    "        stime = time.time()\n",
    "\n",
    "        def calculate_CMO(series, period):\n",
    "            # num_gains = (series >= 0).sum()\n",
    "            # num_losses = (series < 0).sum()\n",
    "            sum_gains = series[series >= 0].sum()\n",
    "            sum_losses = np.abs(series[series < 0].sum())\n",
    "            cmo = 100 * ((sum_gains - sum_losses) / (sum_gains + sum_losses))\n",
    "            return np.round(cmo, 3)\n",
    "\n",
    "        diff = self.df[col_name].diff()[1:]  # skip na\n",
    "        for period in tqdm(intervals):\n",
    "            self.df['cmo_' + str(period)] = np.nan\n",
    "            res = diff.rolling(period).apply(calculate_CMO, args=(period,), raw=False)\n",
    "            self.df['cmo_' + str(period)][1:] = res\n",
    "\n",
    "    def get_WMA(self, col_name, intervals, hma_step=0):\n",
    "        \"\"\"\n",
    "        Momentum indicator\n",
    "        \"\"\"\n",
    "        stime = time.time()\n",
    "        if (hma_step == 0):\n",
    "            # don't show progress for internal WMA calculation for HMA\n",
    "            print(\"Calculating WMA\")\n",
    "\n",
    "        def wavg(rolling_prices, period):\n",
    "            weights = pd.Series(range(1, period + 1))\n",
    "            return np.multiply(rolling_prices.values, weights.values).sum() / weights.sum()\n",
    "\n",
    "        temp_col_count_dict = {}\n",
    "        for i in tqdm(intervals, disable=(hma_step != 0)):\n",
    "            res = self.df[col_name].rolling(i).apply(wavg, args=(i,), raw=False)\n",
    "            # print(\"interval {} has unique values {}\".format(i, res.unique()))\n",
    "            if hma_step == 0:\n",
    "                self.df['wma_' + str(i)] = res\n",
    "            elif hma_step == 1:\n",
    "                if 'hma_wma_' + str(i) in temp_col_count_dict.keys():\n",
    "                    temp_col_count_dict['hma_wma_' + str(i)] = temp_col_count_dict['hma_wma_' + str(i)] + 1\n",
    "                else:\n",
    "                    temp_col_count_dict['hma_wma_' + str(i)] = 0\n",
    "                # after halving the periods and rounding, there may be two intervals with same value e.g.\n",
    "                # 2.6 & 2.8 both would lead to same value (3) after rounding. So save as diff columns\n",
    "                self.df['hma_wma_' + str(i) + '_' + str(temp_col_count_dict['hma_wma_' + str(i)])] = 2 * res\n",
    "            elif hma_step == 3:\n",
    "                import re\n",
    "                expr = r\"^hma_[0-9]{1}\"\n",
    "                columns = list(self.df.columns)\n",
    "                # print(\"searching\", expr, \"in\", columns, \"res=\", list(filter(re.compile(expr).search, columns)))\n",
    "                self.df['hma_' + str(len(list(filter(re.compile(expr).search, columns))))] = res\n",
    "\n",
    "    def get_HMA(self, col_name: str, intervals: int):\n",
    "        import re\n",
    "        stime = time.time()\n",
    "        print(\"Calculating HMA\")\n",
    "        expr = r\"^wma_.*\"\n",
    "\n",
    "        if len(list(filter(re.compile(expr).search, list(self.df.columns)))) > 0:\n",
    "            print(\"WMA calculated already. Proceed with HMA\")\n",
    "        else:\n",
    "            print(\"Need WMA first...\")\n",
    "            self.get_WMA(col_name, intervals)\n",
    "\n",
    "        intervals_half = np.round([i / 2 for i in intervals]).astype(int)\n",
    "\n",
    "        # step 1 = WMA for interval/2\n",
    "        # this creates cols with prefix 'hma_wma_*'\n",
    "        self.get_WMA(col_name, intervals_half, 1)\n",
    "        # print(\"step 1 done\", list(df.columns))\n",
    "\n",
    "        # step 2 = step 1 - WMA\n",
    "        columns = list(self.df.columns)\n",
    "        expr = r\"^hma_wma.*\"\n",
    "        hma_wma_cols = list(filter(re.compile(expr).search, columns))\n",
    "        rest_cols = [x for x in columns if x not in hma_wma_cols]\n",
    "        expr = r\"^wma.*\"\n",
    "        wma_cols = list(filter(re.compile(expr).search, rest_cols))\n",
    "\n",
    "        self.df[hma_wma_cols] = self.df[hma_wma_cols].sub(self.df[wma_cols].values,\n",
    "                                                          fill_value=0)  # .rename(index=str, columns={\"close\": \"col1\", \"rsi_6\": \"col2\"})\n",
    "        # df[0:10].copy().reset_index(drop=True).merge(temp.reset_index(drop=True), left_index=True, right_index=True)\n",
    "\n",
    "        # step 3 = WMA(step 2, interval = sqrt(n))\n",
    "        intervals_sqrt = np.round([np.sqrt(i) for i in intervals]).astype(int)\n",
    "        for i, col in tqdm(enumerate(hma_wma_cols)):\n",
    "            # print(\"step 3\", col, intervals_sqrt[i])\n",
    "            self.get_WMA(col, [intervals_sqrt[i]], 3)\n",
    "        self.df.drop(columns=hma_wma_cols, inplace=True)\n",
    "\n",
    "    def get_CCI(self, col_name: str, intervals: int):\n",
    "        print(\"Calculating CCI\")\n",
    "        for i in tqdm(intervals):\n",
    "            self.df['cci_' + str(i)] = cci(self.df['high'], self.df['low'], self.df['close'], i, fillna=True)"
   ]
  },
  {
   "cell_type": "code",
   "execution_count": null,
   "metadata": {
    "id": "bz32vt0wpRmW"
   },
   "outputs": [],
   "source": [
    "import pandas as pd"
   ]
  },
  {
   "cell_type": "code",
   "execution_count": null,
   "metadata": {
    "colab": {
     "base_uri": "https://localhost:8080/",
     "height": 72,
     "resources": {
      "http://localhost:8080/nbextensions/google.colab/files.js": {
       "data": "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",
       "headers": [
        [
         "content-type",
         "application/javascript"
        ]
       ],
       "ok": true,
       "status": 200,
       "status_text": ""
      }
     }
    },
    "id": "gK7hzIlfcnQ2",
    "outputId": "0ef646fb-1bdd-4fa8-9e85-fb3aa70de29e"
   },
   "outputs": [
    {
     "data": {
      "text/html": [
       "\n",
       "     <input type=\"file\" id=\"files-712369d9-ebd1-4edf-bbf3-bff6ed846ee1\" name=\"files[]\" multiple disabled\n",
       "        style=\"border:none\" />\n",
       "     <output id=\"result-712369d9-ebd1-4edf-bbf3-bff6ed846ee1\">\n",
       "      Upload widget is only available when the cell has been executed in the\n",
       "      current browser session. Please rerun this cell to enable.\n",
       "      </output>\n",
       "      <script src=\"/nbextensions/google.colab/files.js\"></script> "
      ],
      "text/plain": [
       "<IPython.core.display.HTML object>"
      ]
     },
     "metadata": {},
     "output_type": "display_data"
    },
    {
     "name": "stdout",
     "output_type": "stream",
     "text": [
      "Saving SP500_Price_history.xlsx to SP500_Price_history (1).xlsx\n"
     ]
    }
   ],
   "source": [
    "from google.colab import files\n",
    "uploaded = files.upload()"
   ]
  },
  {
   "cell_type": "code",
   "execution_count": null,
   "metadata": {
    "id": "HLSgvO-lcnTn"
   },
   "outputs": [],
   "source": [
    "import io\n",
    "sp_prices = pd.read_excel(io.BytesIO(uploaded[\"SP500_Price_history.xlsx\"]),skiprows = 16, index_col = 0)[[\"Open\",\"Close\",\"Low\",\"High\",\"Low\",\"Volume\",\"Net\"]][::-1]"
   ]
  },
  {
   "cell_type": "code",
   "execution_count": null,
   "metadata": {
    "colab": {
     "base_uri": "https://localhost:8080/",
     "height": 450
    },
    "id": "QuiqKjeRcnWR",
    "outputId": "b59bfb07-979e-46ef-d46b-871da730ee8e"
   },
   "outputs": [
    {
     "data": {
      "text/html": [
       "<div>\n",
       "<style scoped>\n",
       "    .dataframe tbody tr th:only-of-type {\n",
       "        vertical-align: middle;\n",
       "    }\n",
       "\n",
       "    .dataframe tbody tr th {\n",
       "        vertical-align: top;\n",
       "    }\n",
       "\n",
       "    .dataframe thead th {\n",
       "        text-align: right;\n",
       "    }\n",
       "</style>\n",
       "<table border=\"1\" class=\"dataframe\">\n",
       "  <thead>\n",
       "    <tr style=\"text-align: right;\">\n",
       "      <th></th>\n",
       "      <th>Open</th>\n",
       "      <th>Close</th>\n",
       "      <th>Low</th>\n",
       "      <th>High</th>\n",
       "      <th>Low</th>\n",
       "      <th>Volume</th>\n",
       "      <th>Net</th>\n",
       "    </tr>\n",
       "    <tr>\n",
       "      <th>Exchange Date</th>\n",
       "      <th></th>\n",
       "      <th></th>\n",
       "      <th></th>\n",
       "      <th></th>\n",
       "      <th></th>\n",
       "      <th></th>\n",
       "      <th></th>\n",
       "    </tr>\n",
       "  </thead>\n",
       "  <tbody>\n",
       "    <tr>\n",
       "      <th>2010-01-04</th>\n",
       "      <td>112.615618</td>\n",
       "      <td>113.494413</td>\n",
       "      <td>112.555700</td>\n",
       "      <td>113.584290</td>\n",
       "      <td>112.555700</td>\n",
       "      <td>3574136</td>\n",
       "      <td>NaN</td>\n",
       "    </tr>\n",
       "    <tr>\n",
       "      <th>2010-01-05</th>\n",
       "      <td>113.464454</td>\n",
       "      <td>113.823961</td>\n",
       "      <td>113.094961</td>\n",
       "      <td>113.873893</td>\n",
       "      <td>113.094961</td>\n",
       "      <td>2784094</td>\n",
       "      <td>0.329548</td>\n",
       "    </tr>\n",
       "    <tr>\n",
       "      <th>2010-01-06</th>\n",
       "      <td>113.734085</td>\n",
       "      <td>113.913838</td>\n",
       "      <td>113.634221</td>\n",
       "      <td>114.183469</td>\n",
       "      <td>113.634221</td>\n",
       "      <td>3912789</td>\n",
       "      <td>0.089877</td>\n",
       "    </tr>\n",
       "    <tr>\n",
       "      <th>2010-01-07</th>\n",
       "      <td>113.714112</td>\n",
       "      <td>114.413154</td>\n",
       "      <td>113.394550</td>\n",
       "      <td>114.513017</td>\n",
       "      <td>113.394550</td>\n",
       "      <td>2977514</td>\n",
       "      <td>0.499315</td>\n",
       "    </tr>\n",
       "    <tr>\n",
       "      <th>2010-01-08</th>\n",
       "      <td>114.073619</td>\n",
       "      <td>114.802620</td>\n",
       "      <td>113.853920</td>\n",
       "      <td>114.812606</td>\n",
       "      <td>113.853920</td>\n",
       "      <td>2887536</td>\n",
       "      <td>0.389466</td>\n",
       "    </tr>\n",
       "    <tr>\n",
       "      <th>...</th>\n",
       "      <td>...</td>\n",
       "      <td>...</td>\n",
       "      <td>...</td>\n",
       "      <td>...</td>\n",
       "      <td>...</td>\n",
       "      <td>...</td>\n",
       "      <td>...</td>\n",
       "    </tr>\n",
       "    <tr>\n",
       "      <th>2019-12-24</th>\n",
       "      <td>322.870000</td>\n",
       "      <td>322.650000</td>\n",
       "      <td>322.305000</td>\n",
       "      <td>322.930000</td>\n",
       "      <td>322.305000</td>\n",
       "      <td>2716319</td>\n",
       "      <td>0.040000</td>\n",
       "    </tr>\n",
       "    <tr>\n",
       "      <th>2019-12-26</th>\n",
       "      <td>323.060000</td>\n",
       "      <td>324.320000</td>\n",
       "      <td>323.020000</td>\n",
       "      <td>324.330000</td>\n",
       "      <td>323.020000</td>\n",
       "      <td>2852214</td>\n",
       "      <td>1.670000</td>\n",
       "    </tr>\n",
       "    <tr>\n",
       "      <th>2019-12-27</th>\n",
       "      <td>325.190000</td>\n",
       "      <td>324.260000</td>\n",
       "      <td>323.710000</td>\n",
       "      <td>325.190000</td>\n",
       "      <td>323.710000</td>\n",
       "      <td>5091408</td>\n",
       "      <td>-0.060000</td>\n",
       "    </tr>\n",
       "    <tr>\n",
       "      <th>2019-12-30</th>\n",
       "      <td>324.410000</td>\n",
       "      <td>322.510000</td>\n",
       "      <td>321.960000</td>\n",
       "      <td>324.490000</td>\n",
       "      <td>321.960000</td>\n",
       "      <td>3511987</td>\n",
       "      <td>-1.750000</td>\n",
       "    </tr>\n",
       "    <tr>\n",
       "      <th>2019-12-31</th>\n",
       "      <td>321.960000</td>\n",
       "      <td>323.240000</td>\n",
       "      <td>321.567500</td>\n",
       "      <td>323.560000</td>\n",
       "      <td>321.567500</td>\n",
       "      <td>3129116</td>\n",
       "      <td>0.730000</td>\n",
       "    </tr>\n",
       "  </tbody>\n",
       "</table>\n",
       "<p>2516 rows × 7 columns</p>\n",
       "</div>"
      ],
      "text/plain": [
       "                     Open       Close  ...   Volume       Net\n",
       "Exchange Date                          ...                   \n",
       "2010-01-04     112.615618  113.494413  ...  3574136       NaN\n",
       "2010-01-05     113.464454  113.823961  ...  2784094  0.329548\n",
       "2010-01-06     113.734085  113.913838  ...  3912789  0.089877\n",
       "2010-01-07     113.714112  114.413154  ...  2977514  0.499315\n",
       "2010-01-08     114.073619  114.802620  ...  2887536  0.389466\n",
       "...                   ...         ...  ...      ...       ...\n",
       "2019-12-24     322.870000  322.650000  ...  2716319  0.040000\n",
       "2019-12-26     323.060000  324.320000  ...  2852214  1.670000\n",
       "2019-12-27     325.190000  324.260000  ...  5091408 -0.060000\n",
       "2019-12-30     324.410000  322.510000  ...  3511987 -1.750000\n",
       "2019-12-31     321.960000  323.240000  ...  3129116  0.730000\n",
       "\n",
       "[2516 rows x 7 columns]"
      ]
     },
     "execution_count": 82,
     "metadata": {},
     "output_type": "execute_result"
    }
   ],
   "source": [
    "sp_prices"
   ]
  },
  {
   "cell_type": "code",
   "execution_count": null,
   "metadata": {
    "colab": {
     "base_uri": "https://localhost:8080/"
    },
    "id": "_HLIVBNbplGW",
    "outputId": "ac51deb0-2b06-4fc1-f09f-e43c08fb25d7"
   },
   "outputs": [
    {
     "name": "stdout",
     "output_type": "stream",
     "text": [
      "Calculating MACD\n"
     ]
    }
   ],
   "source": [
    "technical_ind = TechnicalIndicator(sp_prices)"
   ]
  },
  {
   "cell_type": "code",
   "execution_count": null,
   "metadata": {
    "colab": {
     "base_uri": "https://localhost:8080/",
     "height": 323
    },
    "id": "hq7xjxTZuAfc",
    "outputId": "db1eb8d3-24de-4381-97b7-b8987d2ae0b9"
   },
   "outputs": [
    {
     "name": "stdout",
     "output_type": "stream",
     "text": [
      "Calculating SMA\n"
     ]
    },
    {
     "ename": "TypeError",
     "evalue": "ignored",
     "output_type": "error",
     "traceback": [
      "\u001b[0;31m---------------------------------------------------------------------------\u001b[0m",
      "\u001b[0;31mTypeError\u001b[0m                                 Traceback (most recent call last)",
      "\u001b[0;32m<ipython-input-52-93ae64d00256>\u001b[0m in \u001b[0;36m<module>\u001b[0;34m()\u001b[0m\n\u001b[0;32m----> 1\u001b[0;31m \u001b[0mtechnical_ind\u001b[0m\u001b[0;34m.\u001b[0m\u001b[0mget_SMA\u001b[0m\u001b[0;34m(\u001b[0m\u001b[0;34m\"close\"\u001b[0m\u001b[0;34m,\u001b[0m\u001b[0;36m10\u001b[0m\u001b[0;34m)\u001b[0m\u001b[0;34m\u001b[0m\u001b[0;34m\u001b[0m\u001b[0m\n\u001b[0m",
      "\u001b[0;32m<ipython-input-44-9461bf99a025>\u001b[0m in \u001b[0;36mget_SMA\u001b[0;34m(self, col_name, intervals)\u001b[0m\n\u001b[1;32m    118\u001b[0m         \u001b[0mprint\u001b[0m\u001b[0;34m(\u001b[0m\u001b[0;34m\"Calculating SMA\"\u001b[0m\u001b[0;34m)\u001b[0m\u001b[0;34m\u001b[0m\u001b[0;34m\u001b[0m\u001b[0m\n\u001b[1;32m    119\u001b[0m         \u001b[0mdf_ss\u001b[0m \u001b[0;34m=\u001b[0m \u001b[0msdf\u001b[0m\u001b[0;34m.\u001b[0m\u001b[0mretype\u001b[0m\u001b[0;34m(\u001b[0m\u001b[0mself\u001b[0m\u001b[0;34m.\u001b[0m\u001b[0mdf\u001b[0m\u001b[0;34m)\u001b[0m\u001b[0;34m\u001b[0m\u001b[0;34m\u001b[0m\u001b[0m\n\u001b[0;32m--> 120\u001b[0;31m         \u001b[0;32mfor\u001b[0m \u001b[0mi\u001b[0m \u001b[0;32min\u001b[0m \u001b[0mtqdm\u001b[0m\u001b[0;34m(\u001b[0m\u001b[0mintervals\u001b[0m\u001b[0;34m)\u001b[0m\u001b[0;34m:\u001b[0m\u001b[0;34m\u001b[0m\u001b[0;34m\u001b[0m\u001b[0m\n\u001b[0m\u001b[1;32m    121\u001b[0m             \u001b[0mself\u001b[0m\u001b[0;34m.\u001b[0m\u001b[0mdf\u001b[0m\u001b[0;34m[\u001b[0m\u001b[0mcol_name\u001b[0m \u001b[0;34m+\u001b[0m \u001b[0;34m'_sma_'\u001b[0m \u001b[0;34m+\u001b[0m \u001b[0mstr\u001b[0m\u001b[0;34m(\u001b[0m\u001b[0mi\u001b[0m\u001b[0;34m)\u001b[0m\u001b[0;34m]\u001b[0m \u001b[0;34m=\u001b[0m \u001b[0mdf_ss\u001b[0m\u001b[0;34m[\u001b[0m\u001b[0mcol_name\u001b[0m \u001b[0;34m+\u001b[0m \u001b[0;34m'_'\u001b[0m \u001b[0;34m+\u001b[0m \u001b[0mstr\u001b[0m\u001b[0;34m(\u001b[0m\u001b[0mi\u001b[0m\u001b[0;34m)\u001b[0m \u001b[0;34m+\u001b[0m \u001b[0;34m'_sma'\u001b[0m\u001b[0;34m]\u001b[0m\u001b[0;34m\u001b[0m\u001b[0;34m\u001b[0m\u001b[0m\n\u001b[1;32m    122\u001b[0m             \u001b[0;32mdel\u001b[0m \u001b[0mself\u001b[0m\u001b[0;34m.\u001b[0m\u001b[0mdf\u001b[0m\u001b[0;34m[\u001b[0m\u001b[0mcol_name\u001b[0m \u001b[0;34m+\u001b[0m \u001b[0;34m'_'\u001b[0m \u001b[0;34m+\u001b[0m \u001b[0mstr\u001b[0m\u001b[0;34m(\u001b[0m\u001b[0mi\u001b[0m\u001b[0;34m)\u001b[0m \u001b[0;34m+\u001b[0m \u001b[0;34m'_sma'\u001b[0m\u001b[0;34m]\u001b[0m\u001b[0;34m\u001b[0m\u001b[0;34m\u001b[0m\u001b[0m\n",
      "\u001b[0;32m/usr/local/lib/python3.7/dist-packages/tqdm/notebook.py\u001b[0m in \u001b[0;36m__init__\u001b[0;34m(self, *args, **kwargs)\u001b[0m\n\u001b[1;32m    229\u001b[0m         \u001b[0mcolour\u001b[0m \u001b[0;34m=\u001b[0m \u001b[0mkwargs\u001b[0m\u001b[0;34m.\u001b[0m\u001b[0mpop\u001b[0m\u001b[0;34m(\u001b[0m\u001b[0;34m'colour'\u001b[0m\u001b[0;34m,\u001b[0m \u001b[0;32mNone\u001b[0m\u001b[0;34m)\u001b[0m\u001b[0;34m\u001b[0m\u001b[0;34m\u001b[0m\u001b[0m\n\u001b[1;32m    230\u001b[0m         \u001b[0mdisplay_here\u001b[0m \u001b[0;34m=\u001b[0m \u001b[0mkwargs\u001b[0m\u001b[0;34m.\u001b[0m\u001b[0mpop\u001b[0m\u001b[0;34m(\u001b[0m\u001b[0;34m'display'\u001b[0m\u001b[0;34m,\u001b[0m \u001b[0;32mTrue\u001b[0m\u001b[0;34m)\u001b[0m\u001b[0;34m\u001b[0m\u001b[0;34m\u001b[0m\u001b[0m\n\u001b[0;32m--> 231\u001b[0;31m         \u001b[0msuper\u001b[0m\u001b[0;34m(\u001b[0m\u001b[0mtqdm_notebook\u001b[0m\u001b[0;34m,\u001b[0m \u001b[0mself\u001b[0m\u001b[0;34m)\u001b[0m\u001b[0;34m.\u001b[0m\u001b[0m__init__\u001b[0m\u001b[0;34m(\u001b[0m\u001b[0;34m*\u001b[0m\u001b[0margs\u001b[0m\u001b[0;34m,\u001b[0m \u001b[0;34m**\u001b[0m\u001b[0mkwargs\u001b[0m\u001b[0;34m)\u001b[0m\u001b[0;34m\u001b[0m\u001b[0;34m\u001b[0m\u001b[0m\n\u001b[0m\u001b[1;32m    232\u001b[0m         \u001b[0;32mif\u001b[0m \u001b[0mself\u001b[0m\u001b[0;34m.\u001b[0m\u001b[0mdisable\u001b[0m \u001b[0;32mor\u001b[0m \u001b[0;32mnot\u001b[0m \u001b[0mkwargs\u001b[0m\u001b[0;34m[\u001b[0m\u001b[0;34m'gui'\u001b[0m\u001b[0;34m]\u001b[0m\u001b[0;34m:\u001b[0m\u001b[0;34m\u001b[0m\u001b[0;34m\u001b[0m\u001b[0m\n\u001b[1;32m    233\u001b[0m             \u001b[0mself\u001b[0m\u001b[0;34m.\u001b[0m\u001b[0mdisp\u001b[0m \u001b[0;34m=\u001b[0m \u001b[0;32mlambda\u001b[0m \u001b[0;34m*\u001b[0m\u001b[0m_\u001b[0m\u001b[0;34m,\u001b[0m \u001b[0;34m**\u001b[0m\u001b[0m__\u001b[0m\u001b[0;34m:\u001b[0m \u001b[0;32mNone\u001b[0m\u001b[0;34m\u001b[0m\u001b[0;34m\u001b[0m\u001b[0m\n",
      "\u001b[0;32m/usr/local/lib/python3.7/dist-packages/tqdm/asyncio.py\u001b[0m in \u001b[0;36m__init__\u001b[0;34m(self, iterable, *args, **kwargs)\u001b[0m\n\u001b[1;32m     31\u001b[0m                 \u001b[0mself\u001b[0m\u001b[0;34m.\u001b[0m\u001b[0miterable_next\u001b[0m \u001b[0;34m=\u001b[0m \u001b[0miterable\u001b[0m\u001b[0;34m.\u001b[0m\u001b[0m__next__\u001b[0m\u001b[0;34m\u001b[0m\u001b[0;34m\u001b[0m\u001b[0m\n\u001b[1;32m     32\u001b[0m             \u001b[0;32melse\u001b[0m\u001b[0;34m:\u001b[0m\u001b[0;34m\u001b[0m\u001b[0;34m\u001b[0m\u001b[0m\n\u001b[0;32m---> 33\u001b[0;31m                 \u001b[0mself\u001b[0m\u001b[0;34m.\u001b[0m\u001b[0miterable_iterator\u001b[0m \u001b[0;34m=\u001b[0m \u001b[0miter\u001b[0m\u001b[0;34m(\u001b[0m\u001b[0miterable\u001b[0m\u001b[0;34m)\u001b[0m\u001b[0;34m\u001b[0m\u001b[0;34m\u001b[0m\u001b[0m\n\u001b[0m\u001b[1;32m     34\u001b[0m                 \u001b[0mself\u001b[0m\u001b[0;34m.\u001b[0m\u001b[0miterable_next\u001b[0m \u001b[0;34m=\u001b[0m \u001b[0mself\u001b[0m\u001b[0;34m.\u001b[0m\u001b[0miterable_iterator\u001b[0m\u001b[0;34m.\u001b[0m\u001b[0m__next__\u001b[0m\u001b[0;34m\u001b[0m\u001b[0;34m\u001b[0m\u001b[0m\n\u001b[1;32m     35\u001b[0m \u001b[0;34m\u001b[0m\u001b[0m\n",
      "\u001b[0;31mTypeError\u001b[0m: 'int' object is not iterable"
     ]
    }
   ],
   "source": [
    "technical_ind.get_SMA(\"close\",10)"
   ]
  },
  {
   "cell_type": "code",
   "execution_count": null,
   "metadata": {
    "colab": {
     "base_uri": "https://localhost:8080/",
     "height": 235
    },
    "id": "vsib-ukvtnuN",
    "outputId": "f6247c92-f52e-4a65-99b5-01ff615cb06e"
   },
   "outputs": [
    {
     "data": {
      "text/html": [
       "<div>\n",
       "<style scoped>\n",
       "    .dataframe tbody tr th:only-of-type {\n",
       "        vertical-align: middle;\n",
       "    }\n",
       "\n",
       "    .dataframe tbody tr th {\n",
       "        vertical-align: top;\n",
       "    }\n",
       "\n",
       "    .dataframe thead th {\n",
       "        text-align: right;\n",
       "    }\n",
       "</style>\n",
       "<table border=\"1\" class=\"dataframe\">\n",
       "  <thead>\n",
       "    <tr style=\"text-align: right;\">\n",
       "      <th></th>\n",
       "      <th>open</th>\n",
       "      <th>close</th>\n",
       "      <th>low</th>\n",
       "      <th>high</th>\n",
       "      <th>low</th>\n",
       "      <th>volume</th>\n",
       "      <th>net</th>\n",
       "      <th>close_12_ema</th>\n",
       "      <th>macd</th>\n",
       "    </tr>\n",
       "    <tr>\n",
       "      <th>Exchange Date</th>\n",
       "      <th></th>\n",
       "      <th></th>\n",
       "      <th></th>\n",
       "      <th></th>\n",
       "      <th></th>\n",
       "      <th></th>\n",
       "      <th></th>\n",
       "      <th></th>\n",
       "      <th></th>\n",
       "    </tr>\n",
       "  </thead>\n",
       "  <tbody>\n",
       "    <tr>\n",
       "      <th>2019-12-31</th>\n",
       "      <td>321.96</td>\n",
       "      <td>323.24</td>\n",
       "      <td>321.5675</td>\n",
       "      <td>323.56</td>\n",
       "      <td>321.5675</td>\n",
       "      <td>3129116</td>\n",
       "      <td>0.73</td>\n",
       "      <td>323.240000</td>\n",
       "      <td>0.000000</td>\n",
       "    </tr>\n",
       "    <tr>\n",
       "      <th>2019-12-30</th>\n",
       "      <td>324.41</td>\n",
       "      <td>322.51</td>\n",
       "      <td>321.9600</td>\n",
       "      <td>324.49</td>\n",
       "      <td>321.9600</td>\n",
       "      <td>3511987</td>\n",
       "      <td>-1.75</td>\n",
       "      <td>322.844583</td>\n",
       "      <td>-0.016378</td>\n",
       "    </tr>\n",
       "    <tr>\n",
       "      <th>2019-12-27</th>\n",
       "      <td>325.19</td>\n",
       "      <td>324.26</td>\n",
       "      <td>323.7100</td>\n",
       "      <td>325.19</td>\n",
       "      <td>323.7100</td>\n",
       "      <td>5091408</td>\n",
       "      <td>-0.06</td>\n",
       "      <td>323.397021</td>\n",
       "      <td>0.033398</td>\n",
       "    </tr>\n",
       "    <tr>\n",
       "      <th>2019-12-26</th>\n",
       "      <td>323.06</td>\n",
       "      <td>324.32</td>\n",
       "      <td>323.0200</td>\n",
       "      <td>324.33</td>\n",
       "      <td>323.0200</td>\n",
       "      <td>2852214</td>\n",
       "      <td>1.67</td>\n",
       "      <td>323.688369</td>\n",
       "      <td>0.057385</td>\n",
       "    </tr>\n",
       "    <tr>\n",
       "      <th>2019-12-24</th>\n",
       "      <td>322.87</td>\n",
       "      <td>322.65</td>\n",
       "      <td>322.3050</td>\n",
       "      <td>322.93</td>\n",
       "      <td>322.3050</td>\n",
       "      <td>2716319</td>\n",
       "      <td>0.04</td>\n",
       "      <td>323.406248</td>\n",
       "      <td>0.002758</td>\n",
       "    </tr>\n",
       "  </tbody>\n",
       "</table>\n",
       "</div>"
      ],
      "text/plain": [
       "                 open   close       low  ...   net  close_12_ema      macd\n",
       "Exchange Date                            ...                              \n",
       "2019-12-31     321.96  323.24  321.5675  ...  0.73    323.240000  0.000000\n",
       "2019-12-30     324.41  322.51  321.9600  ... -1.75    322.844583 -0.016378\n",
       "2019-12-27     325.19  324.26  323.7100  ... -0.06    323.397021  0.033398\n",
       "2019-12-26     323.06  324.32  323.0200  ...  1.67    323.688369  0.057385\n",
       "2019-12-24     322.87  322.65  322.3050  ...  0.04    323.406248  0.002758\n",
       "\n",
       "[5 rows x 9 columns]"
      ]
     },
     "execution_count": 50,
     "metadata": {},
     "output_type": "execute_result"
    }
   ],
   "source": [
    "sp_prices.head()"
   ]
  },
  {
   "cell_type": "code",
   "execution_count": null,
   "metadata": {
    "id": "wpoCxiIkpuEH"
   },
   "outputs": [],
   "source": [
    "import numpy as np\n",
    "def ema(s, n):\n",
    "    \"\"\"\n",
    "    returns an n period exponential moving average for\n",
    "    the time series s\n",
    "\n",
    "    s is a list ordered from oldest (index 0) to most\n",
    "    recent (index -1)\n",
    "    n is an integer\n",
    "\n",
    "    returns a numeric array of the exponential\n",
    "    moving average\n",
    "    \"\"\"\n",
    "    s = np.array(s)\n",
    "    ema = []\n",
    "    j = 1\n",
    "\n",
    "    #get n sma first and calculate the next n period ema\n",
    "    sma = sum(s[:n]) / n\n",
    "    multiplier = 2 / float(1 + n)\n",
    "    ema.append(sma)\n",
    "\n",
    "    #EMA(current) = ( (Price(current) - EMA(prev) ) x Multiplier) + EMA(prev)\n",
    "    ema.append(( (s[n] - sma) * multiplier) + sma)\n",
    "\n",
    "    #now calculate the rest of the values\n",
    "    for i in s[n+1:]:\n",
    "        tmp = ( (i - ema[j]) * multiplier) + ema[j]\n",
    "        j = j + 1\n",
    "        ema.append(tmp)\n",
    "\n",
    "    return ema"
   ]
  },
  {
   "cell_type": "code",
   "execution_count": null,
   "metadata": {
    "id": "cNhQVn8Xq-Xu"
   },
   "outputs": [],
   "source": [
    "close_12_ema = ema(sp_prices[\"Close\"],12)\n",
    "close_26_ema = ema(sp_prices[\"Close\"],26)"
   ]
  },
  {
   "cell_type": "code",
   "execution_count": null,
   "metadata": {
    "colab": {
     "base_uri": "https://localhost:8080/"
    },
    "id": "zZ0whIBprn5I",
    "outputId": "53915842-9b9b-4d4c-9431-e88103ea14f0"
   },
   "outputs": [
    {
     "data": {
      "text/plain": [
       "2516"
      ]
     },
     "execution_count": 26,
     "metadata": {},
     "output_type": "execute_result"
    }
   ],
   "source": [
    "sp_prices.shape[0]"
   ]
  },
  {
   "cell_type": "code",
   "execution_count": null,
   "metadata": {
    "id": "_OcDnksZs3zX"
   },
   "outputs": [],
   "source": [
    "placeholder_12 = 11*[0]\n",
    "placeholder_26 = 25*[0]\n",
    "close_12_ema = placeholder_12 + close_12_ema\n",
    "close_26_ema = placeholder_26 + close_26_ema"
   ]
  },
  {
   "cell_type": "code",
   "execution_count": null,
   "metadata": {
    "colab": {
     "base_uri": "https://localhost:8080/"
    },
    "id": "JYTaW-RGrVpE",
    "outputId": "8a210f0f-3ca0-4bfb-d801-9eb36cff8e1f"
   },
   "outputs": [
    {
     "data": {
      "text/plain": [
       "2516"
      ]
     },
     "execution_count": 37,
     "metadata": {},
     "output_type": "execute_result"
    }
   ],
   "source": [
    "len(close_12_ema)"
   ]
  },
  {
   "cell_type": "code",
   "execution_count": null,
   "metadata": {
    "colab": {
     "base_uri": "https://localhost:8080/"
    },
    "id": "lGEuJ6FyrjAi",
    "outputId": "402c4e6c-14ef-4755-9a78-f2e9332dd180"
   },
   "outputs": [
    {
     "data": {
      "text/plain": [
       "2516"
      ]
     },
     "execution_count": 38,
     "metadata": {},
     "output_type": "execute_result"
    }
   ],
   "source": [
    "len(close_26_ema)"
   ]
  },
  {
   "cell_type": "code",
   "execution_count": null,
   "metadata": {
    "id": "fBc_yKXIr_qH"
   },
   "outputs": [],
   "source": [
    "sp_prices[\"close_26_ema\"] = close_26_ema\n",
    "sp_prices[\"close_12_ema\"] = close_12_ema"
   ]
  },
  {
   "cell_type": "code",
   "execution_count": null,
   "metadata": {
    "colab": {
     "base_uri": "https://localhost:8080/",
     "height": 1000
    },
    "id": "1kcosME4tdQt",
    "outputId": "7babe1ab-16f9-4ef7-8564-b46833ed59ea"
   },
   "outputs": [
    {
     "data": {
      "text/html": [
       "<div>\n",
       "<style scoped>\n",
       "    .dataframe tbody tr th:only-of-type {\n",
       "        vertical-align: middle;\n",
       "    }\n",
       "\n",
       "    .dataframe tbody tr th {\n",
       "        vertical-align: top;\n",
       "    }\n",
       "\n",
       "    .dataframe thead th {\n",
       "        text-align: right;\n",
       "    }\n",
       "</style>\n",
       "<table border=\"1\" class=\"dataframe\">\n",
       "  <thead>\n",
       "    <tr style=\"text-align: right;\">\n",
       "      <th></th>\n",
       "      <th>Open</th>\n",
       "      <th>Close</th>\n",
       "      <th>Low</th>\n",
       "      <th>High</th>\n",
       "      <th>Low</th>\n",
       "      <th>Volume</th>\n",
       "      <th>Net</th>\n",
       "      <th>close_26_ema</th>\n",
       "      <th>close_12_ema</th>\n",
       "    </tr>\n",
       "    <tr>\n",
       "      <th>Exchange Date</th>\n",
       "      <th></th>\n",
       "      <th></th>\n",
       "      <th></th>\n",
       "      <th></th>\n",
       "      <th></th>\n",
       "      <th></th>\n",
       "      <th></th>\n",
       "      <th></th>\n",
       "      <th></th>\n",
       "    </tr>\n",
       "  </thead>\n",
       "  <tbody>\n",
       "    <tr>\n",
       "      <th>2010-01-04</th>\n",
       "      <td>112.615618</td>\n",
       "      <td>113.494413</td>\n",
       "      <td>112.555700</td>\n",
       "      <td>113.584290</td>\n",
       "      <td>112.555700</td>\n",
       "      <td>3574136</td>\n",
       "      <td>NaN</td>\n",
       "      <td>0.000000</td>\n",
       "      <td>0.000000</td>\n",
       "    </tr>\n",
       "    <tr>\n",
       "      <th>2010-01-05</th>\n",
       "      <td>113.464454</td>\n",
       "      <td>113.823961</td>\n",
       "      <td>113.094961</td>\n",
       "      <td>113.873893</td>\n",
       "      <td>113.094961</td>\n",
       "      <td>2784094</td>\n",
       "      <td>0.329548</td>\n",
       "      <td>0.000000</td>\n",
       "      <td>0.000000</td>\n",
       "    </tr>\n",
       "    <tr>\n",
       "      <th>2010-01-06</th>\n",
       "      <td>113.734085</td>\n",
       "      <td>113.913838</td>\n",
       "      <td>113.634221</td>\n",
       "      <td>114.183469</td>\n",
       "      <td>113.634221</td>\n",
       "      <td>3912789</td>\n",
       "      <td>0.089877</td>\n",
       "      <td>0.000000</td>\n",
       "      <td>0.000000</td>\n",
       "    </tr>\n",
       "    <tr>\n",
       "      <th>2010-01-07</th>\n",
       "      <td>113.714112</td>\n",
       "      <td>114.413154</td>\n",
       "      <td>113.394550</td>\n",
       "      <td>114.513017</td>\n",
       "      <td>113.394550</td>\n",
       "      <td>2977514</td>\n",
       "      <td>0.499315</td>\n",
       "      <td>0.000000</td>\n",
       "      <td>0.000000</td>\n",
       "    </tr>\n",
       "    <tr>\n",
       "      <th>2010-01-08</th>\n",
       "      <td>114.073619</td>\n",
       "      <td>114.802620</td>\n",
       "      <td>113.853920</td>\n",
       "      <td>114.812606</td>\n",
       "      <td>113.853920</td>\n",
       "      <td>2887536</td>\n",
       "      <td>0.389466</td>\n",
       "      <td>0.000000</td>\n",
       "      <td>0.000000</td>\n",
       "    </tr>\n",
       "    <tr>\n",
       "      <th>2010-01-11</th>\n",
       "      <td>115.242017</td>\n",
       "      <td>114.962401</td>\n",
       "      <td>114.433126</td>\n",
       "      <td>115.331894</td>\n",
       "      <td>114.433126</td>\n",
       "      <td>3100423</td>\n",
       "      <td>0.159781</td>\n",
       "      <td>0.000000</td>\n",
       "      <td>0.000000</td>\n",
       "    </tr>\n",
       "    <tr>\n",
       "      <th>2010-01-12</th>\n",
       "      <td>114.163496</td>\n",
       "      <td>113.903852</td>\n",
       "      <td>113.424509</td>\n",
       "      <td>114.413154</td>\n",
       "      <td>113.424509</td>\n",
       "      <td>3453855</td>\n",
       "      <td>-1.058549</td>\n",
       "      <td>0.000000</td>\n",
       "      <td>0.000000</td>\n",
       "    </tr>\n",
       "    <tr>\n",
       "      <th>2010-01-13</th>\n",
       "      <td>114.173482</td>\n",
       "      <td>114.802620</td>\n",
       "      <td>113.564317</td>\n",
       "      <td>115.142154</td>\n",
       "      <td>113.564317</td>\n",
       "      <td>5017670</td>\n",
       "      <td>0.898768</td>\n",
       "      <td>0.000000</td>\n",
       "      <td>0.000000</td>\n",
       "    </tr>\n",
       "    <tr>\n",
       "      <th>2010-01-14</th>\n",
       "      <td>114.762675</td>\n",
       "      <td>115.142154</td>\n",
       "      <td>114.213427</td>\n",
       "      <td>115.321908</td>\n",
       "      <td>114.213427</td>\n",
       "      <td>2607957</td>\n",
       "      <td>0.339535</td>\n",
       "      <td>0.000000</td>\n",
       "      <td>0.000000</td>\n",
       "    </tr>\n",
       "    <tr>\n",
       "      <th>2010-01-15</th>\n",
       "      <td>114.832579</td>\n",
       "      <td>113.843934</td>\n",
       "      <td>113.404536</td>\n",
       "      <td>115.042291</td>\n",
       "      <td>113.404536</td>\n",
       "      <td>5227668</td>\n",
       "      <td>-1.298220</td>\n",
       "      <td>0.000000</td>\n",
       "      <td>0.000000</td>\n",
       "    </tr>\n",
       "    <tr>\n",
       "      <th>2010-01-19</th>\n",
       "      <td>113.843934</td>\n",
       "      <td>115.252004</td>\n",
       "      <td>113.794002</td>\n",
       "      <td>115.331894</td>\n",
       "      <td>113.794002</td>\n",
       "      <td>3430436</td>\n",
       "      <td>1.408070</td>\n",
       "      <td>0.000000</td>\n",
       "      <td>0.000000</td>\n",
       "    </tr>\n",
       "    <tr>\n",
       "      <th>2010-01-20</th>\n",
       "      <td>114.473072</td>\n",
       "      <td>114.113564</td>\n",
       "      <td>113.184838</td>\n",
       "      <td>114.503030</td>\n",
       "      <td>113.184838</td>\n",
       "      <td>7105871</td>\n",
       "      <td>-1.138439</td>\n",
       "      <td>0.000000</td>\n",
       "      <td>114.372376</td>\n",
       "    </tr>\n",
       "    <tr>\n",
       "      <th>2010-01-21</th>\n",
       "      <td>114.133538</td>\n",
       "      <td>111.876631</td>\n",
       "      <td>111.747808</td>\n",
       "      <td>114.463085</td>\n",
       "      <td>111.747808</td>\n",
       "      <td>9015925</td>\n",
       "      <td>-2.236933</td>\n",
       "      <td>0.000000</td>\n",
       "      <td>113.988415</td>\n",
       "    </tr>\n",
       "    <tr>\n",
       "      <th>2010-01-22</th>\n",
       "      <td>111.427247</td>\n",
       "      <td>109.459944</td>\n",
       "      <td>109.310149</td>\n",
       "      <td>111.826699</td>\n",
       "      <td>109.310149</td>\n",
       "      <td>7485762</td>\n",
       "      <td>-2.416687</td>\n",
       "      <td>0.000000</td>\n",
       "      <td>113.291727</td>\n",
       "    </tr>\n",
       "    <tr>\n",
       "      <th>2010-01-25</th>\n",
       "      <td>110.418630</td>\n",
       "      <td>110.009191</td>\n",
       "      <td>109.629711</td>\n",
       "      <td>110.608370</td>\n",
       "      <td>109.629711</td>\n",
       "      <td>3415660</td>\n",
       "      <td>0.549247</td>\n",
       "      <td>0.000000</td>\n",
       "      <td>112.786722</td>\n",
       "    </tr>\n",
       "    <tr>\n",
       "      <th>2010-01-26</th>\n",
       "      <td>109.539834</td>\n",
       "      <td>109.489903</td>\n",
       "      <td>109.240245</td>\n",
       "      <td>110.657302</td>\n",
       "      <td>109.240245</td>\n",
       "      <td>4492470</td>\n",
       "      <td>-0.519288</td>\n",
       "      <td>0.000000</td>\n",
       "      <td>112.279519</td>\n",
       "    </tr>\n",
       "    <tr>\n",
       "      <th>2010-01-27</th>\n",
       "      <td>109.370067</td>\n",
       "      <td>110.049136</td>\n",
       "      <td>108.531217</td>\n",
       "      <td>110.268835</td>\n",
       "      <td>108.531217</td>\n",
       "      <td>5421095</td>\n",
       "      <td>0.559233</td>\n",
       "      <td>0.000000</td>\n",
       "      <td>111.936383</td>\n",
       "    </tr>\n",
       "    <tr>\n",
       "      <th>2010-01-28</th>\n",
       "      <td>110.398657</td>\n",
       "      <td>108.730943</td>\n",
       "      <td>108.101806</td>\n",
       "      <td>110.428616</td>\n",
       "      <td>108.101806</td>\n",
       "      <td>5434711</td>\n",
       "      <td>-1.318193</td>\n",
       "      <td>0.000000</td>\n",
       "      <td>111.443239</td>\n",
       "    </tr>\n",
       "    <tr>\n",
       "      <th>2010-01-29</th>\n",
       "      <td>109.230259</td>\n",
       "      <td>107.512613</td>\n",
       "      <td>107.412750</td>\n",
       "      <td>109.966549</td>\n",
       "      <td>107.412750</td>\n",
       "      <td>5678783</td>\n",
       "      <td>-1.218330</td>\n",
       "      <td>0.000000</td>\n",
       "      <td>110.838527</td>\n",
       "    </tr>\n",
       "    <tr>\n",
       "      <th>2010-02-01</th>\n",
       "      <td>108.401395</td>\n",
       "      <td>109.210286</td>\n",
       "      <td>108.271573</td>\n",
       "      <td>109.250231</td>\n",
       "      <td>108.271573</td>\n",
       "      <td>3406855</td>\n",
       "      <td>1.697673</td>\n",
       "      <td>0.000000</td>\n",
       "      <td>110.588028</td>\n",
       "    </tr>\n",
       "    <tr>\n",
       "      <th>2010-02-02</th>\n",
       "      <td>109.469930</td>\n",
       "      <td>110.578411</td>\n",
       "      <td>109.080464</td>\n",
       "      <td>110.792118</td>\n",
       "      <td>109.080464</td>\n",
       "      <td>3188366</td>\n",
       "      <td>1.368124</td>\n",
       "      <td>0.000000</td>\n",
       "      <td>110.586549</td>\n",
       "    </tr>\n",
       "    <tr>\n",
       "      <th>2010-02-03</th>\n",
       "      <td>110.089081</td>\n",
       "      <td>110.019177</td>\n",
       "      <td>109.729574</td>\n",
       "      <td>110.627344</td>\n",
       "      <td>109.729574</td>\n",
       "      <td>5049075</td>\n",
       "      <td>-0.559233</td>\n",
       "      <td>0.000000</td>\n",
       "      <td>110.499261</td>\n",
       "    </tr>\n",
       "    <tr>\n",
       "      <th>2010-02-04</th>\n",
       "      <td>109.170341</td>\n",
       "      <td>106.653791</td>\n",
       "      <td>106.627826</td>\n",
       "      <td>109.210286</td>\n",
       "      <td>106.627826</td>\n",
       "      <td>5599676</td>\n",
       "      <td>-3.365386</td>\n",
       "      <td>0.000000</td>\n",
       "      <td>109.907650</td>\n",
       "    </tr>\n",
       "    <tr>\n",
       "      <th>2010-02-05</th>\n",
       "      <td>106.763640</td>\n",
       "      <td>106.883476</td>\n",
       "      <td>104.756392</td>\n",
       "      <td>107.073216</td>\n",
       "      <td>104.756392</td>\n",
       "      <td>7381206</td>\n",
       "      <td>0.229685</td>\n",
       "      <td>0.000000</td>\n",
       "      <td>109.442392</td>\n",
       "    </tr>\n",
       "    <tr>\n",
       "      <th>2010-02-08</th>\n",
       "      <td>106.923421</td>\n",
       "      <td>106.054612</td>\n",
       "      <td>105.974722</td>\n",
       "      <td>107.502627</td>\n",
       "      <td>105.974722</td>\n",
       "      <td>3265933</td>\n",
       "      <td>-0.828864</td>\n",
       "      <td>0.000000</td>\n",
       "      <td>108.921196</td>\n",
       "    </tr>\n",
       "    <tr>\n",
       "      <th>2010-02-09</th>\n",
       "      <td>107.342846</td>\n",
       "      <td>107.432723</td>\n",
       "      <td>106.465050</td>\n",
       "      <td>108.331494</td>\n",
       "      <td>106.465050</td>\n",
       "      <td>4977193</td>\n",
       "      <td>1.378111</td>\n",
       "      <td>111.401129</td>\n",
       "      <td>108.692200</td>\n",
       "    </tr>\n",
       "    <tr>\n",
       "      <th>2010-02-10</th>\n",
       "      <td>107.223010</td>\n",
       "      <td>107.183065</td>\n",
       "      <td>106.314256</td>\n",
       "      <td>107.802216</td>\n",
       "      <td>106.314256</td>\n",
       "      <td>2837315</td>\n",
       "      <td>-0.249658</td>\n",
       "      <td>111.088680</td>\n",
       "      <td>108.460025</td>\n",
       "    </tr>\n",
       "    <tr>\n",
       "      <th>2010-02-11</th>\n",
       "      <td>107.083202</td>\n",
       "      <td>108.281559</td>\n",
       "      <td>106.454065</td>\n",
       "      <td>108.441340</td>\n",
       "      <td>106.454065</td>\n",
       "      <td>3114259</td>\n",
       "      <td>1.098494</td>\n",
       "      <td>110.880745</td>\n",
       "      <td>108.432569</td>\n",
       "    </tr>\n",
       "    <tr>\n",
       "      <th>2010-02-12</th>\n",
       "      <td>107.153106</td>\n",
       "      <td>108.241614</td>\n",
       "      <td>106.713709</td>\n",
       "      <td>108.251600</td>\n",
       "      <td>106.713709</td>\n",
       "      <td>5902708</td>\n",
       "      <td>-0.039945</td>\n",
       "      <td>110.685254</td>\n",
       "      <td>108.403191</td>\n",
       "    </tr>\n",
       "    <tr>\n",
       "      <th>2010-02-16</th>\n",
       "      <td>109.100437</td>\n",
       "      <td>109.949273</td>\n",
       "      <td>108.641066</td>\n",
       "      <td>110.059123</td>\n",
       "      <td>108.641066</td>\n",
       "      <td>2999261</td>\n",
       "      <td>1.707659</td>\n",
       "      <td>110.630737</td>\n",
       "      <td>108.641050</td>\n",
       "    </tr>\n",
       "  </tbody>\n",
       "</table>\n",
       "</div>"
      ],
      "text/plain": [
       "                     Open       Close  ...  close_26_ema  close_12_ema\n",
       "Exchange Date                          ...                            \n",
       "2010-01-04     112.615618  113.494413  ...      0.000000      0.000000\n",
       "2010-01-05     113.464454  113.823961  ...      0.000000      0.000000\n",
       "2010-01-06     113.734085  113.913838  ...      0.000000      0.000000\n",
       "2010-01-07     113.714112  114.413154  ...      0.000000      0.000000\n",
       "2010-01-08     114.073619  114.802620  ...      0.000000      0.000000\n",
       "2010-01-11     115.242017  114.962401  ...      0.000000      0.000000\n",
       "2010-01-12     114.163496  113.903852  ...      0.000000      0.000000\n",
       "2010-01-13     114.173482  114.802620  ...      0.000000      0.000000\n",
       "2010-01-14     114.762675  115.142154  ...      0.000000      0.000000\n",
       "2010-01-15     114.832579  113.843934  ...      0.000000      0.000000\n",
       "2010-01-19     113.843934  115.252004  ...      0.000000      0.000000\n",
       "2010-01-20     114.473072  114.113564  ...      0.000000    114.372376\n",
       "2010-01-21     114.133538  111.876631  ...      0.000000    113.988415\n",
       "2010-01-22     111.427247  109.459944  ...      0.000000    113.291727\n",
       "2010-01-25     110.418630  110.009191  ...      0.000000    112.786722\n",
       "2010-01-26     109.539834  109.489903  ...      0.000000    112.279519\n",
       "2010-01-27     109.370067  110.049136  ...      0.000000    111.936383\n",
       "2010-01-28     110.398657  108.730943  ...      0.000000    111.443239\n",
       "2010-01-29     109.230259  107.512613  ...      0.000000    110.838527\n",
       "2010-02-01     108.401395  109.210286  ...      0.000000    110.588028\n",
       "2010-02-02     109.469930  110.578411  ...      0.000000    110.586549\n",
       "2010-02-03     110.089081  110.019177  ...      0.000000    110.499261\n",
       "2010-02-04     109.170341  106.653791  ...      0.000000    109.907650\n",
       "2010-02-05     106.763640  106.883476  ...      0.000000    109.442392\n",
       "2010-02-08     106.923421  106.054612  ...      0.000000    108.921196\n",
       "2010-02-09     107.342846  107.432723  ...    111.401129    108.692200\n",
       "2010-02-10     107.223010  107.183065  ...    111.088680    108.460025\n",
       "2010-02-11     107.083202  108.281559  ...    110.880745    108.432569\n",
       "2010-02-12     107.153106  108.241614  ...    110.685254    108.403191\n",
       "2010-02-16     109.100437  109.949273  ...    110.630737    108.641050\n",
       "\n",
       "[30 rows x 9 columns]"
      ]
     },
     "execution_count": 86,
     "metadata": {},
     "output_type": "execute_result"
    }
   ],
   "source": [
    "sp_prices.head(30)"
   ]
  },
  {
   "cell_type": "code",
   "execution_count": null,
   "metadata": {
    "colab": {
     "base_uri": "https://localhost:8080/"
    },
    "id": "Bi0D6KYYvVJQ",
    "outputId": "efe6cf1a-91e3-4729-9e9f-5995492e671e"
   },
   "outputs": [
    {
     "name": "stdout",
     "output_type": "stream",
     "text": [
      "Collecting pandas_ta\n",
      "  Downloading pandas_ta-0.3.14b.tar.gz (115 kB)\n",
      "\u001b[?25l\r",
      "\u001b[K     |██▉                             | 10 kB 18.1 MB/s eta 0:00:01\r",
      "\u001b[K     |█████▊                          | 20 kB 21.3 MB/s eta 0:00:01\r",
      "\u001b[K     |████████▌                       | 30 kB 24.6 MB/s eta 0:00:01\r",
      "\u001b[K     |███████████▍                    | 40 kB 25.8 MB/s eta 0:00:01\r",
      "\u001b[K     |██████████████▎                 | 51 kB 28.3 MB/s eta 0:00:01\r",
      "\u001b[K     |█████████████████               | 61 kB 30.5 MB/s eta 0:00:01\r",
      "\u001b[K     |████████████████████            | 71 kB 30.6 MB/s eta 0:00:01\r",
      "\u001b[K     |██████████████████████▊         | 81 kB 31.3 MB/s eta 0:00:01\r",
      "\u001b[K     |█████████████████████████▋      | 92 kB 33.0 MB/s eta 0:00:01\r",
      "\u001b[K     |████████████████████████████▌   | 102 kB 34.9 MB/s eta 0:00:01\r",
      "\u001b[K     |███████████████████████████████▎| 112 kB 34.9 MB/s eta 0:00:01\r",
      "\u001b[K     |████████████████████████████████| 115 kB 34.9 MB/s \n",
      "\u001b[?25hRequirement already satisfied: pandas in /usr/local/lib/python3.7/dist-packages (from pandas_ta) (1.1.5)\n",
      "Requirement already satisfied: pytz>=2017.2 in /usr/local/lib/python3.7/dist-packages (from pandas->pandas_ta) (2018.9)\n",
      "Requirement already satisfied: numpy>=1.15.4 in /usr/local/lib/python3.7/dist-packages (from pandas->pandas_ta) (1.19.5)\n",
      "Requirement already satisfied: python-dateutil>=2.7.3 in /usr/local/lib/python3.7/dist-packages (from pandas->pandas_ta) (2.8.2)\n",
      "Requirement already satisfied: six>=1.5 in /usr/local/lib/python3.7/dist-packages (from python-dateutil>=2.7.3->pandas->pandas_ta) (1.15.0)\n",
      "Building wheels for collected packages: pandas-ta\n",
      "  Building wheel for pandas-ta (setup.py) ... \u001b[?25l\u001b[?25hdone\n",
      "  Created wheel for pandas-ta: filename=pandas_ta-0.3.14b0-py3-none-any.whl size=218923 sha256=e449c6b71683f45a314a6bbd020b780a13a87bd0981cf35bc13593bf340dedaf\n",
      "  Stored in directory: /root/.cache/pip/wheels/0b/81/f0/cca85757840e4616a2c6b9fe12569d97d324c27cac60724c58\n",
      "Successfully built pandas-ta\n",
      "Installing collected packages: pandas-ta\n",
      "Successfully installed pandas-ta-0.3.14b0\n"
     ]
    }
   ],
   "source": [
    "!pip install pandas_ta"
   ]
  },
  {
   "cell_type": "code",
   "execution_count": null,
   "metadata": {
    "colab": {
     "base_uri": "https://localhost:8080/"
    },
    "id": "agfIadH1tf7w",
    "outputId": "d98c8b23-70e3-406b-9d9a-085e5395a3a2"
   },
   "outputs": [
    {
     "data": {
      "text/plain": [
       "Exchange Date\n",
       "2010-01-04           NaN\n",
       "2010-01-05           NaN\n",
       "2010-01-06           NaN\n",
       "2010-01-07           NaN\n",
       "2010-01-08           NaN\n",
       "                 ...    \n",
       "2019-12-24    317.172674\n",
       "2019-12-26    317.623785\n",
       "2019-12-27    317.996001\n",
       "2019-12-30    318.340135\n",
       "2019-12-31    318.853088\n",
       "Name: SMA_20, Length: 2516, dtype: float64"
      ]
     },
     "execution_count": 87,
     "metadata": {},
     "output_type": "execute_result"
    }
   ],
   "source": [
    "import pandas_ta as ta\n",
    "# Add indicators, using data from before\n",
    "sp_prices.ta.sma(close='close', length=5, append=True)\n",
    "sp_prices.ta.sma(close='close', length=10, append=True)\n",
    "sp_prices.ta.sma(close='close', length=20, append=True)"
   ]
  },
  {
   "cell_type": "code",
   "execution_count": null,
   "metadata": {
    "colab": {
     "base_uri": "https://localhost:8080/",
     "height": 235
    },
    "id": "hYSz_0UovTbS",
    "outputId": "585b099e-a971-427d-d32b-06d4a7cafbb7"
   },
   "outputs": [
    {
     "data": {
      "text/html": [
       "<div>\n",
       "<style scoped>\n",
       "    .dataframe tbody tr th:only-of-type {\n",
       "        vertical-align: middle;\n",
       "    }\n",
       "\n",
       "    .dataframe tbody tr th {\n",
       "        vertical-align: top;\n",
       "    }\n",
       "\n",
       "    .dataframe thead th {\n",
       "        text-align: right;\n",
       "    }\n",
       "</style>\n",
       "<table border=\"1\" class=\"dataframe\">\n",
       "  <thead>\n",
       "    <tr style=\"text-align: right;\">\n",
       "      <th></th>\n",
       "      <th>Open</th>\n",
       "      <th>Close</th>\n",
       "      <th>Low</th>\n",
       "      <th>High</th>\n",
       "      <th>Low</th>\n",
       "      <th>Volume</th>\n",
       "      <th>Net</th>\n",
       "      <th>close_26_ema</th>\n",
       "      <th>close_12_ema</th>\n",
       "      <th>SMA_5</th>\n",
       "      <th>SMA_10</th>\n",
       "      <th>SMA_20</th>\n",
       "    </tr>\n",
       "    <tr>\n",
       "      <th>Exchange Date</th>\n",
       "      <th></th>\n",
       "      <th></th>\n",
       "      <th></th>\n",
       "      <th></th>\n",
       "      <th></th>\n",
       "      <th></th>\n",
       "      <th></th>\n",
       "      <th></th>\n",
       "      <th></th>\n",
       "      <th></th>\n",
       "      <th></th>\n",
       "      <th></th>\n",
       "    </tr>\n",
       "  </thead>\n",
       "  <tbody>\n",
       "    <tr>\n",
       "      <th>2010-01-04</th>\n",
       "      <td>112.615618</td>\n",
       "      <td>113.494413</td>\n",
       "      <td>112.555700</td>\n",
       "      <td>113.584290</td>\n",
       "      <td>112.555700</td>\n",
       "      <td>3574136</td>\n",
       "      <td>NaN</td>\n",
       "      <td>0.0</td>\n",
       "      <td>0.0</td>\n",
       "      <td>NaN</td>\n",
       "      <td>NaN</td>\n",
       "      <td>NaN</td>\n",
       "    </tr>\n",
       "    <tr>\n",
       "      <th>2010-01-05</th>\n",
       "      <td>113.464454</td>\n",
       "      <td>113.823961</td>\n",
       "      <td>113.094961</td>\n",
       "      <td>113.873893</td>\n",
       "      <td>113.094961</td>\n",
       "      <td>2784094</td>\n",
       "      <td>0.329548</td>\n",
       "      <td>0.0</td>\n",
       "      <td>0.0</td>\n",
       "      <td>NaN</td>\n",
       "      <td>NaN</td>\n",
       "      <td>NaN</td>\n",
       "    </tr>\n",
       "    <tr>\n",
       "      <th>2010-01-06</th>\n",
       "      <td>113.734085</td>\n",
       "      <td>113.913838</td>\n",
       "      <td>113.634221</td>\n",
       "      <td>114.183469</td>\n",
       "      <td>113.634221</td>\n",
       "      <td>3912789</td>\n",
       "      <td>0.089877</td>\n",
       "      <td>0.0</td>\n",
       "      <td>0.0</td>\n",
       "      <td>NaN</td>\n",
       "      <td>NaN</td>\n",
       "      <td>NaN</td>\n",
       "    </tr>\n",
       "    <tr>\n",
       "      <th>2010-01-07</th>\n",
       "      <td>113.714112</td>\n",
       "      <td>114.413154</td>\n",
       "      <td>113.394550</td>\n",
       "      <td>114.513017</td>\n",
       "      <td>113.394550</td>\n",
       "      <td>2977514</td>\n",
       "      <td>0.499315</td>\n",
       "      <td>0.0</td>\n",
       "      <td>0.0</td>\n",
       "      <td>NaN</td>\n",
       "      <td>NaN</td>\n",
       "      <td>NaN</td>\n",
       "    </tr>\n",
       "    <tr>\n",
       "      <th>2010-01-08</th>\n",
       "      <td>114.073619</td>\n",
       "      <td>114.802620</td>\n",
       "      <td>113.853920</td>\n",
       "      <td>114.812606</td>\n",
       "      <td>113.853920</td>\n",
       "      <td>2887536</td>\n",
       "      <td>0.389466</td>\n",
       "      <td>0.0</td>\n",
       "      <td>0.0</td>\n",
       "      <td>114.089597</td>\n",
       "      <td>NaN</td>\n",
       "      <td>NaN</td>\n",
       "    </tr>\n",
       "  </tbody>\n",
       "</table>\n",
       "</div>"
      ],
      "text/plain": [
       "                     Open       Close         Low  ...       SMA_5  SMA_10  SMA_20\n",
       "Exchange Date                                      ...                            \n",
       "2010-01-04     112.615618  113.494413  112.555700  ...         NaN     NaN     NaN\n",
       "2010-01-05     113.464454  113.823961  113.094961  ...         NaN     NaN     NaN\n",
       "2010-01-06     113.734085  113.913838  113.634221  ...         NaN     NaN     NaN\n",
       "2010-01-07     113.714112  114.413154  113.394550  ...         NaN     NaN     NaN\n",
       "2010-01-08     114.073619  114.802620  113.853920  ...  114.089597     NaN     NaN\n",
       "\n",
       "[5 rows x 12 columns]"
      ]
     },
     "execution_count": 89,
     "metadata": {},
     "output_type": "execute_result"
    }
   ],
   "source": [
    "sp_prices.head()"
   ]
  },
  {
   "cell_type": "code",
   "execution_count": null,
   "metadata": {
    "colab": {
     "base_uri": "https://localhost:8080/",
     "height": 596
    },
    "id": "MfpUONxqveIK",
    "outputId": "a9a1fffa-439f-49a1-83ee-2a079a5eac89"
   },
   "outputs": [
    {
     "data": {
      "image/png": "[encoded data removed]",
      "text/plain": [
       "<Figure size 864x720 with 2 Axes>"
      ]
     },
     "metadata": {
      "needs_background": "light"
     },
     "output_type": "display_data"
    }
   ],
   "source": [
    "import matplotlib.pyplot as plt\n",
    "%matplotlib inline\n",
    "import seaborn as sns\n",
    "data = sp_prices[[\"Close\",\"Volume\",\"Net\",\"close_12_ema\",\"close_26_ema\",\"SMA_10\",\"SMA_20\"]]\n",
    "plt.figure(figsize=(12,10))\n",
    "cor = data.corr()\n",
    "sns.heatmap(cor, annot=True, cmap=plt.cm.Reds)\n",
    "plt.show()"
   ]
  },
  {
   "cell_type": "code",
   "execution_count": null,
   "metadata": {
    "id": "nL850Qf6yT2z"
   },
   "outputs": [],
   "source": [
    "X = sp_prices[[\"Volume\",\"Net\",\"close_12_ema\",\"close_26_ema\",\"SMA_10\",\"SMA_20\"]][21:]\n",
    "y = sp_prices[\"Close\"][21:]"
   ]
  },
  {
   "cell_type": "code",
   "execution_count": null,
   "metadata": {
    "colab": {
     "base_uri": "https://localhost:8080/"
    },
    "id": "8NHHJWrVzlCa",
    "outputId": "e16cc238-ba34-4e33-dcea-57895dce907c"
   },
   "outputs": [
    {
     "data": {
      "text/plain": [
       "Exchange Date\n",
       "2019-11-29    315.627314\n",
       "2019-11-27    316.815685\n",
       "2019-11-26    315.297766\n",
       "2019-11-25    314.668628\n",
       "2019-11-22    312.311859\n",
       "                 ...    \n",
       "2010-01-08    114.802620\n",
       "2010-01-07    114.413154\n",
       "2010-01-06    113.913838\n",
       "2010-01-05    113.823961\n",
       "2010-01-04    113.494413\n",
       "Name: close, Length: 2495, dtype: float64"
      ]
     },
     "execution_count": 75,
     "metadata": {},
     "output_type": "execute_result"
    }
   ],
   "source": []
  },
  {
   "cell_type": "code",
   "execution_count": null,
   "metadata": {
    "id": "eTJ-tgaFzVmg"
   },
   "outputs": [],
   "source": [
    "X.fillna(0, inplace = True)"
   ]
  },
  {
   "cell_type": "markdown",
   "metadata": {
    "id": "Xo-iLYix3w9y"
   },
   "source": [
    "## Feature selction method 1: RFE"
   ]
  },
  {
   "cell_type": "code",
   "execution_count": null,
   "metadata": {
    "colab": {
     "base_uri": "https://localhost:8080/"
    },
    "id": "e8OGXbgUxF_R",
    "outputId": "36818ef9-9fe3-436d-d8f8-3a1a7b1219d1"
   },
   "outputs": [
    {
     "name": "stdout",
     "output_type": "stream",
     "text": [
      "[False  True  True False  True  True]\n",
      "[3 1 1 2 1 1]\n"
     ]
    }
   ],
   "source": [
    "from sklearn.feature_selection import RFE\n",
    "from sklearn.linear_model import LinearRegression\n",
    "# drop the 1 column in X\n",
    "RFE_regressor = LinearRegression()\n",
    "#Initializing RFE model\n",
    "rfe = RFE(RFE_regressor, 4)# random number(2)\n",
    "#Transforming data using RFE\n",
    "X_rfe = rfe.fit_transform(X,y)  \n",
    "#Fitting the data to model\n",
    "RFE_regressor.fit(X,y)\n",
    "print(rfe.support_)\n",
    "print(rfe.ranking_)"
   ]
  },
  {
   "cell_type": "code",
   "execution_count": null,
   "metadata": {
    "colab": {
     "base_uri": "https://localhost:8080/"
    },
    "id": "8ImQYYIQ2S9Q",
    "outputId": "6e55b04f-e5e4-4758-8743-3a64cce8c4ac"
   },
   "outputs": [
    {
     "name": "stdout",
     "output_type": "stream",
     "text": [
      "['Net', 'close_12_ema', 'SMA_10', 'SMA_20']\n"
     ]
    }
   ],
   "source": [
    "feature_list = [\"Volume\",\"Net\",\"close_12_ema\",\"close_26_ema\",\"SMA_10\",\"SMA_20\"]\n",
    "relevant_features = []\n",
    "for count, i in enumerate(feature_list):\n",
    "  if rfe.support_[count] == True:\n",
    "    relevant_features.append(i)\n",
    "print(relevant_features)"
   ]
  },
  {
   "cell_type": "markdown",
   "metadata": {
    "id": "X8bDkI-y3p1D"
   },
   "source": [
    "## Feature Selection Method 2: Backward Elimination"
   ]
  },
  {
   "cell_type": "code",
   "execution_count": null,
   "metadata": {
    "colab": {
     "base_uri": "https://localhost:8080/"
    },
    "id": "pubG-yuK3oHt",
    "outputId": "93affc3f-4cc3-4936-fa5a-b106fa92ebaf"
   },
   "outputs": [
    {
     "name": "stderr",
     "output_type": "stream",
     "text": [
      "/usr/local/lib/python3.7/dist-packages/statsmodels/tools/_testing.py:19: FutureWarning: pandas.util.testing is deprecated. Use the functions in the public API at pandas.testing instead.\n",
      "  import pandas.util.testing as tm\n"
     ]
    }
   ],
   "source": [
    "from sklearn.datasets import load_boston\n",
    "import pandas as pd\n",
    "import numpy as np\n",
    "import matplotlib\n",
    "import matplotlib.pyplot as plt\n",
    "import seaborn as sns\n",
    "import statsmodels.api as sm\n",
    "%matplotlib inline\n",
    "from sklearn.model_selection import train_test_split\n",
    "from sklearn.linear_model import LinearRegression\n",
    "from sklearn.feature_selection import RFE\n",
    "from sklearn.linear_model import RidgeCV, LassoCV, Ridge, Lasso"
   ]
  },
  {
   "cell_type": "code",
   "execution_count": null,
   "metadata": {
    "colab": {
     "base_uri": "https://localhost:8080/"
    },
    "id": "8ZdtSbVN2tDP",
    "outputId": "5872ed22-c98f-4bb1-d0c7-abcec2724865"
   },
   "outputs": [
    {
     "data": {
      "text/plain": [
       "const           1.310717e-03\n",
       "Volume          1.063433e-18\n",
       "Net             0.000000e+00\n",
       "close_12_ema    0.000000e+00\n",
       "close_26_ema    4.669969e-04\n",
       "SMA_10          0.000000e+00\n",
       "SMA_20          0.000000e+00\n",
       "dtype: float64"
      ]
     },
     "execution_count": 105,
     "metadata": {},
     "output_type": "execute_result"
    }
   ],
   "source": [
    "X_1 = sm.add_constant(X)\n",
    "#Fitting sm.OLS model\n",
    "model = sm.OLS(y,X_1).fit()\n",
    "model.pvalues"
   ]
  },
  {
   "cell_type": "code",
   "execution_count": null,
   "metadata": {
    "colab": {
     "base_uri": "https://localhost:8080/"
    },
    "id": "5IPY6yGF59H-",
    "outputId": "7d650587-08c6-4c8a-f555-6c690ed86031"
   },
   "outputs": [
    {
     "name": "stdout",
     "output_type": "stream",
     "text": [
      "['Volume', 'Net', 'close_12_ema', 'SMA_10', 'SMA_20']\n",
      "['Volume', 'Net', 'close_12_ema', 'SMA_10', 'SMA_20']\n"
     ]
    }
   ],
   "source": [
    "cols = [\"Volume\",\"Net\",\"close_12_ema\",\"close_26_ema\",\"SMA_10\",\"SMA_20\"]\n",
    "pmax = 1\n",
    "while (len(cols)>0):\n",
    "    p= []\n",
    "    X = sp_prices[cols][21:] \n",
    "    y = sp_prices[\"Close\"][21:]\n",
    "    X_1 = sm.add_constant(X)\n",
    "    model = sm.OLS(y,X_1).fit()\n",
    "    p = pd.Series(model.pvalues.values[1:],index = cols)      \n",
    "    pmax = max(p)\n",
    "    feature_with_p_max = p.idxmax()\n",
    "    if(pmax>0.00001):\n",
    "        cols.remove(feature_with_p_max)\n",
    "    else:        break\n",
    "    print(cols)\n",
    "selected_features_BE = cols\n",
    "print(selected_features_BE)"
   ]
  },
  {
   "cell_type": "markdown",
   "metadata": {
    "id": "zQHTplzC5UxE"
   },
   "source": [
    "## Feature selection method 3: Embedded method with Lasso Regularisation"
   ]
  },
  {
   "cell_type": "code",
   "execution_count": null,
   "metadata": {
    "colab": {
     "base_uri": "https://localhost:8080/"
    },
    "id": "FJzbwMMG5Ty2",
    "outputId": "55ffdfc0-92a8-45d0-f837-92c1f907585e"
   },
   "outputs": [
    {
     "name": "stdout",
     "output_type": "stream",
     "text": [
      "Best alpha using built-in LassoCV: 1684.805257\n",
      "Best score using built-in LassoCV: 0.760412\n",
      "Volume         -5.818370e-08\n",
      "Net             0.000000e+00\n",
      "close_12_ema    2.523283e-01\n",
      "close_26_ema    0.000000e+00\n",
      "SMA_10          2.608877e-01\n",
      "SMA_20          0.000000e+00\n",
      "dtype: float64\n"
     ]
    },
    {
     "name": "stderr",
     "output_type": "stream",
     "text": [
      "/usr/local/lib/python3.7/dist-packages/sklearn/linear_model/_coordinate_descent.py:476: ConvergenceWarning: Objective did not converge. You might want to increase the number of iterations. Duality gap: 9222.207526665181, tolerance: 864.8688555660265\n",
      "  positive)\n"
     ]
    }
   ],
   "source": [
    "reg = LassoCV()\n",
    "cols = [\"Volume\",\"Net\",\"close_12_ema\",\"close_26_ema\",\"SMA_10\",\"SMA_20\"]\n",
    "X = sp_prices[cols][21:]\n",
    "y = sp_prices[\"Close\"][21:]\n",
    "reg.fit(X, y)\n",
    "print(\"Best alpha using built-in LassoCV: %f\" % reg.alpha_)\n",
    "print(\"Best score using built-in LassoCV: %f\" %reg.score(X,y))\n",
    "coef = pd.Series(reg.coef_, index = X.columns)\n",
    "print(coef)"
   ]
  },
  {
   "cell_type": "code",
   "execution_count": null,
   "metadata": {
    "colab": {
     "base_uri": "https://localhost:8080/"
    },
    "id": "K4Jm84AH7meD",
    "outputId": "d8f6f026-3296-453a-e1ad-95289134227f"
   },
   "outputs": [
    {
     "name": "stdout",
     "output_type": "stream",
     "text": [
      "Lasso picked 3 variables and eliminated the other 3 variables\n"
     ]
    }
   ],
   "source": [
    "print(\"Lasso picked \" + str(sum(coef != 0)) + \" variables and eliminated the other \" +  str(sum(coef == 0)) + \" variables\")\n"
   ]
  },
  {
   "cell_type": "code",
   "execution_count": null,
   "metadata": {
    "colab": {
     "base_uri": "https://localhost:8080/"
    },
    "id": "iQTfyDZSDBlo",
    "outputId": "e785e23f-7ffb-4a10-d9e4-e1dfddf0f0a7"
   },
   "outputs": [
    {
     "name": "stdout",
     "output_type": "stream",
     "text": [
      "Collecting ta\n",
      "  Downloading ta-0.7.0.tar.gz (25 kB)\n",
      "Requirement already satisfied: numpy in /usr/local/lib/python3.7/dist-packages (from ta) (1.19.5)\n",
      "Requirement already satisfied: pandas in /usr/local/lib/python3.7/dist-packages (from ta) (1.1.5)\n",
      "Requirement already satisfied: pytz>=2017.2 in /usr/local/lib/python3.7/dist-packages (from pandas->ta) (2018.9)\n",
      "Requirement already satisfied: python-dateutil>=2.7.3 in /usr/local/lib/python3.7/dist-packages (from pandas->ta) (2.8.2)\n",
      "Requirement already satisfied: six>=1.5 in /usr/local/lib/python3.7/dist-packages (from python-dateutil>=2.7.3->pandas->ta) (1.15.0)\n",
      "Building wheels for collected packages: ta\n",
      "  Building wheel for ta (setup.py) ... \u001b[?25l\u001b[?25hdone\n",
      "  Created wheel for ta: filename=ta-0.7.0-py3-none-any.whl size=28718 sha256=23088c9be847cda8f2aab2eaca1c22a23f83cb6b9b2ba5d44dd39fb090d38647\n",
      "  Stored in directory: /root/.cache/pip/wheels/5e/74/e0/72395003bd1d3c8f3f5860c2d180ff15699e47a2733d8ebd38\n",
      "Successfully built ta\n",
      "Installing collected packages: ta\n",
      "Successfully installed ta-0.7.0\n"
     ]
    }
   ],
   "source": [
    "!pip install ta"
   ]
  },
  {
   "cell_type": "code",
   "execution_count": null,
   "metadata": {
    "id": "coS_rLWF9IKU"
   },
   "outputs": [],
   "source": [
    "from ta.trend import *\n",
    "from ta.volatility import *\n",
    "from ta.momentum import *\n",
    "from ta.volume import *\n",
    "import numpy as np\n",
    "import pandas as pd\n",
    "\n",
    "# Class setup indicators with ta library:\n",
    "class TechnicalIndicator():\n",
    "    def __init__(self, df):\n",
    "        self.df = df\n",
    "    \n",
    "    \n",
    "    def create_features(self):\n",
    "        # self.get_std(col_name=\"close\")\n",
    "        # self.get_std(col_name=\"volume\")\n",
    "        \n",
    "        self.get_ppo(col_name=\"close\")\n",
    "        self.get_ppo(col_name=\"open\")\n",
    "        \n",
    "        self.get_kst()\n",
    "        self.get_MACD()\n",
    "        \n",
    "        for window in [4,8,12,16]:\n",
    "            self.get_roc(window=window)\n",
    "        \n",
    "        for window in [8,14,20]:\n",
    "            self.get_rsi(window=window)\n",
    "            \n",
    "        for window in [8,14,20]:\n",
    "            self.get_mfi(window=window)\n",
    "        \n",
    "        for window in [10,20,30]:\n",
    "            self.get_cmf(window=window)\n",
    "        \n",
    "        for window in [10,20,30]:\n",
    "            self.get_dpo(window=window)\n",
    "            \n",
    "        for window in [6,12,18]:   \n",
    "            self.get_adx()\n",
    "        \n",
    "        for window in [5,9,13,19]:\n",
    "            self.get_fi(window=window)\n",
    "        \n",
    "        for window in [8,14,20]:\n",
    "            self.get_emv(window=window)\n",
    "        \n",
    "        for window in [10,15,20,25,30]:\n",
    "            self.get_bb(window=window)\n",
    "        \n",
    "        for window in [8,14,20]:\n",
    "            self.get_atr(window=window)\n",
    "        \n",
    "        for look_back in [8,14,20]:\n",
    "            self.get_williamR(look_back=look_back)\n",
    "        \n",
    "        for window in [4,6,8,10,12,14,16,18,20,36,50]:\n",
    "            self.get_sma(window=window)\n",
    "            self.get_ema(window=window)\n",
    "            self.get_wma(window=window)\n",
    "            self.get_trix(window=window)\n",
    "        \n",
    "        for window in [10,15,20,25,30]:\n",
    "            self.get_CCI(window=window)\n",
    "        \n",
    "        self.get_CMO(intervals=[10,15,20,25,30])\n",
    "        \n",
    "\n",
    "    def get_std(self, col_name: str = \"close\"):\n",
    "        \"\"\"\n",
    "        Standard Deviation\n",
    "        \"\"\"\n",
    "        self.df[\"std_{}\".format(col_name)]=self.df[col_name].std()\n",
    "\n",
    "\n",
    "    def get_roc(self, col_name: str = \"close\", window: int = 12):\n",
    "        \"\"\"\n",
    "        The Rate-of-Change (ROC) indicator, which is also referred to as simply Momentum, is a pure momentum oscillator \n",
    "        that measures the percent change in price from one period to the next. The ROC calculation compares the current \n",
    "        price with the price “n” periods ago.\n",
    "        \"\"\"\n",
    "        self.df['roc_{}_{}'.format(window, col_name)] = ROCIndicator(self.df[col_name], window).roc()\n",
    "        \n",
    "\n",
    "    def get_ppo(self, col_name: str = \"close\"):\n",
    "        \"\"\"\n",
    "        The Percentage Price Oscillator (PPO) is a momentum oscillator that measures the difference between two moving \n",
    "        averages as a percentage of the larger moving average.\n",
    "        \"\"\"\n",
    "        ppo_indicator = PercentagePriceOscillator(close=self.df[col_name], window_slow=26, window_fast=12, window_sign=9, fillna=False)\n",
    "        self.df['ppo_{}'.format(col_name)] = ppo_indicator.ppo()\n",
    "        \n",
    "        \n",
    "    def get_rsi(self, col_name: str = \"close\", window: int = 14):\n",
    "        \"\"\"\n",
    "        The Relative Strength Index RSI) is a momentum indicator used in technical analysis that measures the magnitude \n",
    "        of recent price changes to evaluate overbought or oversold conditions in the price of a stock or other asset. \n",
    "        \"\"\"\n",
    "        self.df['rsi_{}_{}'.format(window, col_name)] = RSIIndicator(self.df[col_name], window).rsi()\n",
    "\n",
    "        \n",
    "    def get_mfi(self, high: str = \"high\", low: str = \"low\", close: str = \"close\", volume: str = \"volume\", window: int = 14):\n",
    "        \"\"\"\n",
    "        Money Flow Index* (MFI) uses both price and volume to measure buying and selling pressure.\n",
    "        \"\"\"\n",
    "        indicator_mfi = MFIIndicator(self.df[high], self.df[low], self.df[close], self.df[volume], window)\n",
    "        self.df['mfi_{}'.format(window)] = indicator_mfi.money_flow_index()\n",
    "\n",
    "        \n",
    "    def get_cmf(self, high: str = \"high\", low: str = \"low\", close: str = \"close\", volume: str = \"volume\", window: int = 14):\n",
    "        \"\"\"\n",
    "        Chaikin Money Flow (CMF) it measures the amount of Money Flow Volume over a specific period.\n",
    "        \"\"\"\n",
    "        indicator_cmf = ChaikinMoneyFlowIndicator(self.df[high], self.df[low], self.df[close], self.df[volume], window)\n",
    "        self.df['cmf_{}'.format(window)] = indicator_cmf.chaikin_money_flow()\n",
    "\n",
    "        \n",
    "    def get_dpo(self, close: str = \"close\", window: int = 20):\n",
    "        \"\"\"\n",
    "        Detrended Price Oscillator (DPO) Is an indicator designed to remove trend from price and make it easier to identify cycles.\n",
    "        \"\"\"\n",
    "        indicator_dpo = DPOIndicator(self.df[close], window)\n",
    "        self.df['dpo_{}'.format(window)] = indicator_dpo.dpo()\n",
    "\n",
    "        \n",
    "    def get_kst(self, close: str = \"close\", roc1: int = 10, roc2: int = 15, roc3: int = 20, roc4: int = 30, \n",
    "                window1: int = 10, window2: int = 10, window3: int = 10, window4: int = 15, nsig: int= 9, fillna: bool = False):  \n",
    "        \"\"\"\n",
    "        KST Oscillator (KST) is useful to identify major stock market cycle junctures because its formula is weighed \n",
    "        to be more greatly influenced by the longer and more dominant time spans, in order to better reflect the primary \n",
    "        swings of stock market cycle.\n",
    "        \"\"\"\n",
    "        indicator_kst = KSTIndicator(self.df[close], roc1, roc2, roc3, roc4, window1, window2, window3, window4, nsig, fillna)\n",
    "        self.df['kst'] = indicator_kst.kst()\n",
    "\n",
    "        \n",
    "    def get_adx(self, high: str = \"high\", low: str = \"low\", close: str = \"close\", window: int = 14):\n",
    "        \"\"\"\n",
    "        Average Directional Movement Index (ADX)\n",
    "        \"\"\"\n",
    "        indicator_adx = ADXIndicator(self.df[high], self.df[low], self.df[close], window)\n",
    "        self.df['adx_{}'.format(window)] = indicator_adx.adx()\n",
    "\n",
    "        \n",
    "    def get_fi(self, close: str = \"close\", volume: str = \"volume\", window: int = 13):\n",
    "        \"\"\"\n",
    "        Force Index (FI) it illustrates how strong the actual buying or selling pressure is. High positive values mean \n",
    "        there is a strong rising trend, and low values signify a strong downward trend.\n",
    "        \"\"\"\n",
    "        indicator_fi = ForceIndexIndicator(self.df[close], self.df[volume], window)\n",
    "        self.df['fi_{}'.format(window)] = indicator_fi.force_index()\n",
    "\n",
    "        \n",
    "    def get_emv(self, high: str = \"high\", low: str = \"low\", volume: str = \"volume\", window: int = 14):\n",
    "        \"\"\"\n",
    "        Ease of movement (EoM, EMV) it relate an asset’s price change to its volume and is particularly useful for assessing the strength of a trend.\n",
    "        \"\"\"\n",
    "        indicator_emv = EaseOfMovementIndicator(self.df[high], self.df[low], self.df[volume], window)\n",
    "        self.df['emv_{}'.format(window)] = indicator_emv.ease_of_movement()\n",
    "\n",
    "        \n",
    "    def get_bb(self, close: str = \"close\", window: int = 20):\n",
    "        \"\"\"\n",
    "        Bollinger Bands are envelopes plotted at a standard deviation level above and below a simple moving average of the price. \n",
    "        Bollinger bands help determine whether prices are high or low on a relative basis.\n",
    "        \"\"\"\n",
    "        indicator_bb = BollingerBands(self.df[close], window)\n",
    "        self.df['bb_bbm'] = indicator_bb.bollinger_mavg()\n",
    "        self.df['bb_bbh'] = indicator_bb.bollinger_hband()\n",
    "        self.df['bb_bbl'] = indicator_bb.bollinger_lband()\n",
    "        self.df['bb_bbhi'] = indicator_bb.bollinger_hband_indicator()\n",
    "        self.df['bb_bbli'] = indicator_bb.bollinger_lband_indicator()\n",
    "        self.df['bb_bbhi'] = indicator_bb.bollinger_hband()\n",
    "        self.df['bb_bbw'] = indicator_bb.bollinger_wband()\n",
    "        self.df['bb_bbp'] = indicator_bb.bollinger_pband()\n",
    "\n",
    "        \n",
    "    def get_atr(self, high: str = \"high\", low: str = \"low\", close: str = \"close\", window: int = 14):\n",
    "        \"\"\"\n",
    "        Average True Range indicator provide an indication of the degree of price volatility. \n",
    "        Strong moves, in either direction, are often accompanied by large ranges, or large True Ranges.\n",
    "        \"\"\"\n",
    "        indicator_atr = AverageTrueRange(self.df[high], self.df[low], self.df[close], window)\n",
    "        self.df['atr_{}'.format(window)] = indicator_atr.average_true_range()\n",
    "\n",
    "        \n",
    "    def get_williamR(self, high: str = \"high\", low: str = \"low\", close: str = \"close\", look_back: int = 14):\n",
    "        \"\"\"\n",
    "        The Williams Percent Range is a type of momentum indicator that moves between 0 and -100 and measures overbought and oversold levels. \n",
    "        \"\"\"\n",
    "        self.df[\"wr_\" + str(look_back)] = WilliamsRIndicator(self.df[high], self.df[low], self.df[close], look_back, fillna=True).williams_r()\n",
    "\n",
    "    \n",
    "    def get_MACD(self, close: str = \"close\"):\n",
    "        \"\"\"\n",
    "        Moving Average Convergence Divergence (MACD) is a trend-following momentum indicator that shows the relationship between two moving averages of prices.\n",
    "        \"\"\"\n",
    "        macd_ind = MACD(self.df[close], window_slow=26, window_fast=12, window_sign=9, fillna=False)\n",
    "        self.df[\"macd\"] = macd_ind.macd()\n",
    "\n",
    "\n",
    "    def get_sma(self, col_name: str = \"close\", window: int = 14):\n",
    "        \"\"\"\n",
    "        Simple Moving Average\n",
    "        \"\"\"\n",
    "        sma_indicator = SMAIndicator(close = self.df[col_name], window = window, fillna = False)\n",
    "        self.df['sma_{}_{}'.format(window, col_name)] = sma_indicator.sma_indicator()\n",
    "\n",
    "\n",
    "    def get_ema(self, col_name: str = \"close\", window: int = 14): \n",
    "        \"\"\"\n",
    "        Exponential Moving Average\n",
    "        \"\"\"\n",
    "        ema_indicator = EMAIndicator(close = self.df[col_name], window = window, fillna = False)\n",
    "        self.df['ema_{}_{}'.format(window, col_name)] = ema_indicator.ema_indicator()\n",
    "\n",
    "                \n",
    "    def get_wma(self, col_name: str = \"close\", window: int = 9):\n",
    "        \"\"\"\n",
    "        Weighted Moving Average\n",
    "        \"\"\"\n",
    "        indicator_wma = WMAIndicator(self.df[col_name], window)\n",
    "        self.df['wma_{}_{}'.format(window, col_name)] = indicator_wma.wma()\n",
    "    \n",
    "        \n",
    "    def get_trix(self, col_name: str = \"close\", window: int = 15):\n",
    "        \"\"\"\n",
    "        Trix shows the percent rate of change of a triple exponentially smoothed moving average.\n",
    "        \"\"\"\n",
    "        indicator_trix = TRIXIndicator(self.df[col_name], window)\n",
    "        self.df['trix_{}'.format(window)] = indicator_trix.trix()\n",
    "\n",
    "\n",
    "    def get_CCI(self, high: str = \"high\", low: str = \"low\", close: str = \"close\", window: int = 20):\n",
    "        \"\"\"\n",
    "        Commodity Channel Index(CCI) measures the difference between a security’s price change and its average price change. \n",
    "        High positive readings indicate that prices are well above their average, which is a show of strength. \n",
    "        Low negative readings indicate that prices are well below their average, which is a show of weakness.\n",
    "        \"\"\"\n",
    "        cci_inidcator = CCIIndicator(high=self.df[high], low=self.df[high], close=self.df[close], window=window, constant=0.015, fillna=False)\n",
    "        self.df['cci_{}'.format(window)] = cci_inidcator.cci()\n",
    "\n",
    "        \n",
    "    def get_CMO(self,  intervals: int, col_name: str = \"close\"):\n",
    "        \"\"\"\n",
    "        Chande Momentum Oscillator is created by calculating the difference between the sum of all recent higher closes \n",
    "        and the sum of all recent lower closes and then dividing the result by the sum of all price movement over a given time period. \n",
    "        \n",
    "        As per https://www.fidelity.com/learning-center/trading-investing/technical-analysis/technical-indicator-guide/cmo\n",
    "        CMO = 100 * ((Sum(ups) - Sum(downs))/ ( (Sum(ups) + Sum(downs) ) )\n",
    "        range = +100 to -100\n",
    "        params: df -> dataframe with financial instrument history\n",
    "                col_name -> column name for which CMO is to be calculated\n",
    "                intervals -> list of periods for which to calculated\n",
    "        return: None (adds the result in a column)\n",
    "        \"\"\"\n",
    "        \n",
    "        def calculate_CMO(series, period):\n",
    "            # num_gains = (series >= 0).sum()\n",
    "            # num_losses = (series < 0).sum()\n",
    "            sum_gains = series[series >= 0].sum()\n",
    "            sum_losses = np.abs(series[series < 0].sum())\n",
    "            cmo = 100 * ((sum_gains - sum_losses) / (sum_gains + sum_losses))\n",
    "            return np.round(cmo, 3)\n",
    "\n",
    "        diff = self.df[col_name].diff()[1:]  # skip na\n",
    "        for period in intervals:\n",
    "            self.df['cmo_' + str(period)] = np.nan\n",
    "            res = diff.rolling(period).apply(calculate_CMO, args=(period,), raw=False)\n",
    "            self.df['cmo_' + str(period)][1:] = res"
   ]
  },
  {
   "cell_type": "code",
   "execution_count": null,
   "metadata": {
    "id": "IVxzGaszC7GM"
   },
   "outputs": [],
   "source": [
    "sp_indicators = TechnicalIndicator(sp_prices)"
   ]
  },
  {
   "cell_type": "code",
   "execution_count": null,
   "metadata": {
    "colab": {
     "base_uri": "https://localhost:8080/"
    },
    "id": "nECL1snjGYI7",
    "outputId": "dcb790fa-c725-4c7f-9bd8-dd882e693e11"
   },
   "outputs": [
    {
     "data": {
      "text/plain": [
       "DatetimeIndex(['2010-01-04', '2010-01-05', '2010-01-06', '2010-01-07',\n",
       "               '2010-01-08', '2010-01-11', '2010-01-12', '2010-01-13',\n",
       "               '2010-01-14', '2010-01-15',\n",
       "               ...\n",
       "               '2019-12-17', '2019-12-18', '2019-12-19', '2019-12-20',\n",
       "               '2019-12-23', '2019-12-24', '2019-12-26', '2019-12-27',\n",
       "               '2019-12-30', '2019-12-31'],\n",
       "              dtype='datetime64[ns]', name='Exchange Date', length=2516, freq=None)"
      ]
     },
     "execution_count": 31,
     "metadata": {},
     "output_type": "execute_result"
    }
   ],
   "source": [
    "sp_prices.index"
   ]
  },
  {
   "cell_type": "code",
   "execution_count": null,
   "metadata": {
    "id": "-UXjZSpLD5b1"
   },
   "outputs": [],
   "source": [
    "sp_prices.rename(columns={\"Close\": \"close\",\"Open\":\"open\",\"High\":\"high\",\"Low\":\"low\",\"Volume\":\"volume\"}, inplace = True)\n",
    "sp_prices.index = pd.to_datetime(sp_prices.index)"
   ]
  },
  {
   "cell_type": "code",
   "execution_count": null,
   "metadata": {
    "colab": {
     "base_uri": "https://localhost:8080/",
     "height": 340
    },
    "id": "CbEX8H9JDsyj",
    "outputId": "2796147b-fead-44c6-99c5-cc413796dc29"
   },
   "outputs": [
    {
     "ename": "TypeError",
     "evalue": "ignored",
     "output_type": "error",
     "traceback": [
      "\u001b[0;31m---------------------------------------------------------------------------\u001b[0m",
      "\u001b[0;31mTypeError\u001b[0m                                 Traceback (most recent call last)",
      "\u001b[0;32m<ipython-input-33-a97924f8f334>\u001b[0m in \u001b[0;36m<module>\u001b[0;34m()\u001b[0m\n\u001b[0;32m----> 1\u001b[0;31m \u001b[0msp_indicators\u001b[0m\u001b[0;34m.\u001b[0m\u001b[0mcreate_features\u001b[0m\u001b[0;34m(\u001b[0m\u001b[0;34m)\u001b[0m\u001b[0;34m\u001b[0m\u001b[0;34m\u001b[0m\u001b[0m\n\u001b[0m",
      "\u001b[0;32m<ipython-input-3-78e564d3351f>\u001b[0m in \u001b[0;36mcreate_features\u001b[0;34m(self)\u001b[0m\n\u001b[1;32m     29\u001b[0m \u001b[0;34m\u001b[0m\u001b[0m\n\u001b[1;32m     30\u001b[0m         \u001b[0;32mfor\u001b[0m \u001b[0mwindow\u001b[0m \u001b[0;32min\u001b[0m \u001b[0;34m[\u001b[0m\u001b[0;36m8\u001b[0m\u001b[0;34m,\u001b[0m\u001b[0;36m14\u001b[0m\u001b[0;34m,\u001b[0m\u001b[0;36m20\u001b[0m\u001b[0;34m]\u001b[0m\u001b[0;34m:\u001b[0m\u001b[0;34m\u001b[0m\u001b[0;34m\u001b[0m\u001b[0m\n\u001b[0;32m---> 31\u001b[0;31m             \u001b[0mself\u001b[0m\u001b[0;34m.\u001b[0m\u001b[0mget_mfi\u001b[0m\u001b[0;34m(\u001b[0m\u001b[0mwindow\u001b[0m\u001b[0;34m=\u001b[0m\u001b[0mwindow\u001b[0m\u001b[0;34m)\u001b[0m\u001b[0;34m\u001b[0m\u001b[0;34m\u001b[0m\u001b[0m\n\u001b[0m\u001b[1;32m     32\u001b[0m \u001b[0;34m\u001b[0m\u001b[0m\n\u001b[1;32m     33\u001b[0m         \u001b[0;32mfor\u001b[0m \u001b[0mwindow\u001b[0m \u001b[0;32min\u001b[0m \u001b[0;34m[\u001b[0m\u001b[0;36m10\u001b[0m\u001b[0;34m,\u001b[0m\u001b[0;36m20\u001b[0m\u001b[0;34m,\u001b[0m\u001b[0;36m30\u001b[0m\u001b[0;34m]\u001b[0m\u001b[0;34m:\u001b[0m\u001b[0;34m\u001b[0m\u001b[0;34m\u001b[0m\u001b[0m\n",
      "\u001b[0;32m<ipython-input-3-78e564d3351f>\u001b[0m in \u001b[0;36mget_mfi\u001b[0;34m(self, high, low, close, volume, window)\u001b[0m\n\u001b[1;32m    104\u001b[0m         \u001b[0mMoney\u001b[0m \u001b[0mFlow\u001b[0m \u001b[0mIndex\u001b[0m\u001b[0;34m*\u001b[0m \u001b[0;34m(\u001b[0m\u001b[0mMFI\u001b[0m\u001b[0;34m)\u001b[0m \u001b[0muses\u001b[0m \u001b[0mboth\u001b[0m \u001b[0mprice\u001b[0m \u001b[0;32mand\u001b[0m \u001b[0mvolume\u001b[0m \u001b[0mto\u001b[0m \u001b[0mmeasure\u001b[0m \u001b[0mbuying\u001b[0m \u001b[0;32mand\u001b[0m \u001b[0mselling\u001b[0m \u001b[0mpressure\u001b[0m\u001b[0;34m.\u001b[0m\u001b[0;34m\u001b[0m\u001b[0;34m\u001b[0m\u001b[0m\n\u001b[1;32m    105\u001b[0m         \"\"\"\n\u001b[0;32m--> 106\u001b[0;31m         \u001b[0mindicator_mfi\u001b[0m \u001b[0;34m=\u001b[0m \u001b[0mMFIIndicator\u001b[0m\u001b[0;34m(\u001b[0m\u001b[0mself\u001b[0m\u001b[0;34m.\u001b[0m\u001b[0mdf\u001b[0m\u001b[0;34m[\u001b[0m\u001b[0mhigh\u001b[0m\u001b[0;34m]\u001b[0m\u001b[0;34m,\u001b[0m \u001b[0mself\u001b[0m\u001b[0;34m.\u001b[0m\u001b[0mdf\u001b[0m\u001b[0;34m[\u001b[0m\u001b[0mlow\u001b[0m\u001b[0;34m]\u001b[0m\u001b[0;34m,\u001b[0m \u001b[0mself\u001b[0m\u001b[0;34m.\u001b[0m\u001b[0mdf\u001b[0m\u001b[0;34m[\u001b[0m\u001b[0mclose\u001b[0m\u001b[0;34m]\u001b[0m\u001b[0;34m,\u001b[0m \u001b[0mself\u001b[0m\u001b[0;34m.\u001b[0m\u001b[0mdf\u001b[0m\u001b[0;34m[\u001b[0m\u001b[0mvolume\u001b[0m\u001b[0;34m]\u001b[0m\u001b[0;34m,\u001b[0m \u001b[0mwindow\u001b[0m\u001b[0;34m)\u001b[0m\u001b[0;34m\u001b[0m\u001b[0;34m\u001b[0m\u001b[0m\n\u001b[0m\u001b[1;32m    107\u001b[0m         \u001b[0mself\u001b[0m\u001b[0;34m.\u001b[0m\u001b[0mdf\u001b[0m\u001b[0;34m[\u001b[0m\u001b[0;34m'mfi_{}'\u001b[0m\u001b[0;34m.\u001b[0m\u001b[0mformat\u001b[0m\u001b[0;34m(\u001b[0m\u001b[0mwindow\u001b[0m\u001b[0;34m)\u001b[0m\u001b[0;34m]\u001b[0m \u001b[0;34m=\u001b[0m \u001b[0mindicator_mfi\u001b[0m\u001b[0;34m.\u001b[0m\u001b[0mmoney_flow_index\u001b[0m\u001b[0;34m(\u001b[0m\u001b[0;34m)\u001b[0m\u001b[0;34m\u001b[0m\u001b[0;34m\u001b[0m\u001b[0m\n\u001b[1;32m    108\u001b[0m \u001b[0;34m\u001b[0m\u001b[0m\n",
      "\u001b[0;32m/usr/local/lib/python3.7/dist-packages/ta/volume.py\u001b[0m in \u001b[0;36m__init__\u001b[0;34m(self, high, low, close, volume, window, fillna)\u001b[0m\n\u001b[1;32m    367\u001b[0m         \u001b[0mself\u001b[0m\u001b[0;34m.\u001b[0m\u001b[0m_window\u001b[0m \u001b[0;34m=\u001b[0m \u001b[0mwindow\u001b[0m\u001b[0;34m\u001b[0m\u001b[0;34m\u001b[0m\u001b[0m\n\u001b[1;32m    368\u001b[0m         \u001b[0mself\u001b[0m\u001b[0;34m.\u001b[0m\u001b[0m_fillna\u001b[0m \u001b[0;34m=\u001b[0m \u001b[0mfillna\u001b[0m\u001b[0;34m\u001b[0m\u001b[0;34m\u001b[0m\u001b[0m\n\u001b[0;32m--> 369\u001b[0;31m         \u001b[0mself\u001b[0m\u001b[0;34m.\u001b[0m\u001b[0m_run\u001b[0m\u001b[0;34m(\u001b[0m\u001b[0;34m)\u001b[0m\u001b[0;34m\u001b[0m\u001b[0;34m\u001b[0m\u001b[0m\n\u001b[0m\u001b[1;32m    370\u001b[0m \u001b[0;34m\u001b[0m\u001b[0m\n\u001b[1;32m    371\u001b[0m     \u001b[0;32mdef\u001b[0m \u001b[0m_run\u001b[0m\u001b[0;34m(\u001b[0m\u001b[0mself\u001b[0m\u001b[0;34m)\u001b[0m\u001b[0;34m:\u001b[0m\u001b[0;34m\u001b[0m\u001b[0;34m\u001b[0m\u001b[0m\n",
      "\u001b[0;32m/usr/local/lib/python3.7/dist-packages/ta/volume.py\u001b[0m in \u001b[0;36m_run\u001b[0;34m(self)\u001b[0m\n\u001b[1;32m    370\u001b[0m \u001b[0;34m\u001b[0m\u001b[0m\n\u001b[1;32m    371\u001b[0m     \u001b[0;32mdef\u001b[0m \u001b[0m_run\u001b[0m\u001b[0;34m(\u001b[0m\u001b[0mself\u001b[0m\u001b[0;34m)\u001b[0m\u001b[0;34m:\u001b[0m\u001b[0;34m\u001b[0m\u001b[0;34m\u001b[0m\u001b[0m\n\u001b[0;32m--> 372\u001b[0;31m         \u001b[0mtypical_price\u001b[0m \u001b[0;34m=\u001b[0m \u001b[0;34m(\u001b[0m\u001b[0mself\u001b[0m\u001b[0;34m.\u001b[0m\u001b[0m_high\u001b[0m \u001b[0;34m+\u001b[0m \u001b[0mself\u001b[0m\u001b[0;34m.\u001b[0m\u001b[0m_low\u001b[0m \u001b[0;34m+\u001b[0m \u001b[0mself\u001b[0m\u001b[0;34m.\u001b[0m\u001b[0m_close\u001b[0m\u001b[0;34m)\u001b[0m \u001b[0;34m/\u001b[0m \u001b[0;36m3.0\u001b[0m\u001b[0;34m\u001b[0m\u001b[0;34m\u001b[0m\u001b[0m\n\u001b[0m\u001b[1;32m    373\u001b[0m         up_down = np.where(\n\u001b[1;32m    374\u001b[0m             \u001b[0mtypical_price\u001b[0m \u001b[0;34m>\u001b[0m \u001b[0mtypical_price\u001b[0m\u001b[0;34m.\u001b[0m\u001b[0mshift\u001b[0m\u001b[0;34m(\u001b[0m\u001b[0;36m1\u001b[0m\u001b[0;34m)\u001b[0m\u001b[0;34m,\u001b[0m\u001b[0;34m\u001b[0m\u001b[0;34m\u001b[0m\u001b[0m\n",
      "\u001b[0;32m/usr/local/lib/python3.7/dist-packages/pandas/core/ops/__init__.py\u001b[0m in \u001b[0;36mf\u001b[0;34m(self, other, axis, level, fill_value)\u001b[0m\n\u001b[1;32m    649\u001b[0m         \u001b[0;31m# TODO: why are we passing flex=True instead of flex=not special?\u001b[0m\u001b[0;34m\u001b[0m\u001b[0;34m\u001b[0m\u001b[0;34m\u001b[0m\u001b[0m\n\u001b[1;32m    650\u001b[0m         \u001b[0;31m#  15 tests fail if we pass flex=not special instead\u001b[0m\u001b[0;34m\u001b[0m\u001b[0;34m\u001b[0m\u001b[0;34m\u001b[0m\u001b[0m\n\u001b[0;32m--> 651\u001b[0;31m         \u001b[0mself\u001b[0m\u001b[0;34m,\u001b[0m \u001b[0mother\u001b[0m \u001b[0;34m=\u001b[0m \u001b[0m_align_method_FRAME\u001b[0m\u001b[0;34m(\u001b[0m\u001b[0mself\u001b[0m\u001b[0;34m,\u001b[0m \u001b[0mother\u001b[0m\u001b[0;34m,\u001b[0m \u001b[0maxis\u001b[0m\u001b[0;34m,\u001b[0m \u001b[0mflex\u001b[0m\u001b[0;34m=\u001b[0m\u001b[0;32mTrue\u001b[0m\u001b[0;34m,\u001b[0m \u001b[0mlevel\u001b[0m\u001b[0;34m=\u001b[0m\u001b[0mlevel\u001b[0m\u001b[0;34m)\u001b[0m\u001b[0;34m\u001b[0m\u001b[0;34m\u001b[0m\u001b[0m\n\u001b[0m\u001b[1;32m    652\u001b[0m \u001b[0;34m\u001b[0m\u001b[0m\n\u001b[1;32m    653\u001b[0m         \u001b[0;32mif\u001b[0m \u001b[0misinstance\u001b[0m\u001b[0;34m(\u001b[0m\u001b[0mother\u001b[0m\u001b[0;34m,\u001b[0m \u001b[0mABCDataFrame\u001b[0m\u001b[0;34m)\u001b[0m\u001b[0;34m:\u001b[0m\u001b[0;34m\u001b[0m\u001b[0;34m\u001b[0m\u001b[0m\n",
      "\u001b[0;32m/usr/local/lib/python3.7/dist-packages/pandas/core/ops/__init__.py\u001b[0m in \u001b[0;36m_align_method_FRAME\u001b[0;34m(left, right, axis, flex, level)\u001b[0m\n\u001b[1;32m    515\u001b[0m         \u001b[0maxis\u001b[0m \u001b[0;34m=\u001b[0m \u001b[0mleft\u001b[0m\u001b[0;34m.\u001b[0m\u001b[0m_get_axis_number\u001b[0m\u001b[0;34m(\u001b[0m\u001b[0maxis\u001b[0m\u001b[0;34m)\u001b[0m \u001b[0;32mif\u001b[0m \u001b[0maxis\u001b[0m \u001b[0;32mis\u001b[0m \u001b[0;32mnot\u001b[0m \u001b[0;32mNone\u001b[0m \u001b[0;32melse\u001b[0m \u001b[0;36m1\u001b[0m\u001b[0;34m\u001b[0m\u001b[0;34m\u001b[0m\u001b[0m\n\u001b[1;32m    516\u001b[0m         left, right = left.align(\n\u001b[0;32m--> 517\u001b[0;31m             \u001b[0mright\u001b[0m\u001b[0;34m,\u001b[0m \u001b[0mjoin\u001b[0m\u001b[0;34m=\u001b[0m\u001b[0;34m\"outer\"\u001b[0m\u001b[0;34m,\u001b[0m \u001b[0maxis\u001b[0m\u001b[0;34m=\u001b[0m\u001b[0maxis\u001b[0m\u001b[0;34m,\u001b[0m \u001b[0mlevel\u001b[0m\u001b[0;34m=\u001b[0m\u001b[0mlevel\u001b[0m\u001b[0;34m,\u001b[0m \u001b[0mcopy\u001b[0m\u001b[0;34m=\u001b[0m\u001b[0;32mFalse\u001b[0m\u001b[0;34m\u001b[0m\u001b[0;34m\u001b[0m\u001b[0m\n\u001b[0m\u001b[1;32m    518\u001b[0m         )\n\u001b[1;32m    519\u001b[0m         \u001b[0mright\u001b[0m \u001b[0;34m=\u001b[0m \u001b[0m_maybe_align_series_as_frame\u001b[0m\u001b[0;34m(\u001b[0m\u001b[0mleft\u001b[0m\u001b[0;34m,\u001b[0m \u001b[0mright\u001b[0m\u001b[0;34m,\u001b[0m \u001b[0maxis\u001b[0m\u001b[0;34m)\u001b[0m\u001b[0;34m\u001b[0m\u001b[0;34m\u001b[0m\u001b[0m\n",
      "\u001b[0;32m/usr/local/lib/python3.7/dist-packages/pandas/core/frame.py\u001b[0m in \u001b[0;36malign\u001b[0;34m(self, other, join, axis, level, copy, fill_value, method, limit, fill_axis, broadcast_axis)\u001b[0m\n\u001b[1;32m   3970\u001b[0m             \u001b[0mlimit\u001b[0m\u001b[0;34m=\u001b[0m\u001b[0mlimit\u001b[0m\u001b[0;34m,\u001b[0m\u001b[0;34m\u001b[0m\u001b[0;34m\u001b[0m\u001b[0m\n\u001b[1;32m   3971\u001b[0m             \u001b[0mfill_axis\u001b[0m\u001b[0;34m=\u001b[0m\u001b[0mfill_axis\u001b[0m\u001b[0;34m,\u001b[0m\u001b[0;34m\u001b[0m\u001b[0;34m\u001b[0m\u001b[0m\n\u001b[0;32m-> 3972\u001b[0;31m             \u001b[0mbroadcast_axis\u001b[0m\u001b[0;34m=\u001b[0m\u001b[0mbroadcast_axis\u001b[0m\u001b[0;34m,\u001b[0m\u001b[0;34m\u001b[0m\u001b[0;34m\u001b[0m\u001b[0m\n\u001b[0m\u001b[1;32m   3973\u001b[0m         )\n\u001b[1;32m   3974\u001b[0m \u001b[0;34m\u001b[0m\u001b[0m\n",
      "\u001b[0;32m/usr/local/lib/python3.7/dist-packages/pandas/core/generic.py\u001b[0m in \u001b[0;36malign\u001b[0;34m(self, other, join, axis, level, copy, fill_value, method, limit, fill_axis, broadcast_axis)\u001b[0m\n\u001b[1;32m   8572\u001b[0m                 \u001b[0mmethod\u001b[0m\u001b[0;34m=\u001b[0m\u001b[0mmethod\u001b[0m\u001b[0;34m,\u001b[0m\u001b[0;34m\u001b[0m\u001b[0;34m\u001b[0m\u001b[0m\n\u001b[1;32m   8573\u001b[0m                 \u001b[0mlimit\u001b[0m\u001b[0;34m=\u001b[0m\u001b[0mlimit\u001b[0m\u001b[0;34m,\u001b[0m\u001b[0;34m\u001b[0m\u001b[0;34m\u001b[0m\u001b[0m\n\u001b[0;32m-> 8574\u001b[0;31m                 \u001b[0mfill_axis\u001b[0m\u001b[0;34m=\u001b[0m\u001b[0mfill_axis\u001b[0m\u001b[0;34m,\u001b[0m\u001b[0;34m\u001b[0m\u001b[0;34m\u001b[0m\u001b[0m\n\u001b[0m\u001b[1;32m   8575\u001b[0m             )\n\u001b[1;32m   8576\u001b[0m         \u001b[0;32melse\u001b[0m\u001b[0;34m:\u001b[0m  \u001b[0;31m# pragma: no cover\u001b[0m\u001b[0;34m\u001b[0m\u001b[0;34m\u001b[0m\u001b[0m\n",
      "\u001b[0;32m/usr/local/lib/python3.7/dist-packages/pandas/core/generic.py\u001b[0m in \u001b[0;36m_align_series\u001b[0;34m(self, other, join, axis, level, copy, fill_value, method, limit, fill_axis)\u001b[0m\n\u001b[1;32m   8692\u001b[0m                 \u001b[0;32mif\u001b[0m \u001b[0;32mnot\u001b[0m \u001b[0mself\u001b[0m\u001b[0;34m.\u001b[0m\u001b[0mcolumns\u001b[0m\u001b[0;34m.\u001b[0m\u001b[0mequals\u001b[0m\u001b[0;34m(\u001b[0m\u001b[0mother\u001b[0m\u001b[0;34m.\u001b[0m\u001b[0mindex\u001b[0m\u001b[0;34m)\u001b[0m\u001b[0;34m:\u001b[0m\u001b[0;34m\u001b[0m\u001b[0;34m\u001b[0m\u001b[0m\n\u001b[1;32m   8693\u001b[0m                     join_index, lidx, ridx = self.columns.join(\n\u001b[0;32m-> 8694\u001b[0;31m                         \u001b[0mother\u001b[0m\u001b[0;34m.\u001b[0m\u001b[0mindex\u001b[0m\u001b[0;34m,\u001b[0m \u001b[0mhow\u001b[0m\u001b[0;34m=\u001b[0m\u001b[0mjoin\u001b[0m\u001b[0;34m,\u001b[0m \u001b[0mlevel\u001b[0m\u001b[0;34m=\u001b[0m\u001b[0mlevel\u001b[0m\u001b[0;34m,\u001b[0m \u001b[0mreturn_indexers\u001b[0m\u001b[0;34m=\u001b[0m\u001b[0;32mTrue\u001b[0m\u001b[0;34m\u001b[0m\u001b[0;34m\u001b[0m\u001b[0m\n\u001b[0m\u001b[1;32m   8695\u001b[0m                     )\n\u001b[1;32m   8696\u001b[0m \u001b[0;34m\u001b[0m\u001b[0m\n",
      "\u001b[0;32m/usr/local/lib/python3.7/dist-packages/pandas/core/indexes/base.py\u001b[0m in \u001b[0;36mjoin\u001b[0;34m(self, other, how, level, return_indexers, sort)\u001b[0m\n\u001b[1;32m   3474\u001b[0m             \u001b[0mhow\u001b[0m \u001b[0;34m=\u001b[0m \u001b[0;34m{\u001b[0m\u001b[0;34m\"right\"\u001b[0m\u001b[0;34m:\u001b[0m \u001b[0;34m\"left\"\u001b[0m\u001b[0;34m,\u001b[0m \u001b[0;34m\"left\"\u001b[0m\u001b[0;34m:\u001b[0m \u001b[0;34m\"right\"\u001b[0m\u001b[0;34m}\u001b[0m\u001b[0;34m.\u001b[0m\u001b[0mget\u001b[0m\u001b[0;34m(\u001b[0m\u001b[0mhow\u001b[0m\u001b[0;34m,\u001b[0m \u001b[0mhow\u001b[0m\u001b[0;34m)\u001b[0m\u001b[0;34m\u001b[0m\u001b[0;34m\u001b[0m\u001b[0m\n\u001b[1;32m   3475\u001b[0m             result = other.join(\n\u001b[0;32m-> 3476\u001b[0;31m                 \u001b[0mself\u001b[0m\u001b[0;34m,\u001b[0m \u001b[0mhow\u001b[0m\u001b[0;34m=\u001b[0m\u001b[0mhow\u001b[0m\u001b[0;34m,\u001b[0m \u001b[0mlevel\u001b[0m\u001b[0;34m=\u001b[0m\u001b[0mlevel\u001b[0m\u001b[0;34m,\u001b[0m \u001b[0mreturn_indexers\u001b[0m\u001b[0;34m=\u001b[0m\u001b[0mreturn_indexers\u001b[0m\u001b[0;34m\u001b[0m\u001b[0;34m\u001b[0m\u001b[0m\n\u001b[0m\u001b[1;32m   3477\u001b[0m             )\n\u001b[1;32m   3478\u001b[0m             \u001b[0;32mif\u001b[0m \u001b[0mreturn_indexers\u001b[0m\u001b[0;34m:\u001b[0m\u001b[0;34m\u001b[0m\u001b[0;34m\u001b[0m\u001b[0m\n",
      "\u001b[0;32m/usr/local/lib/python3.7/dist-packages/pandas/core/indexes/datetimelike.py\u001b[0m in \u001b[0;36mjoin\u001b[0;34m(self, other, how, level, return_indexers, sort)\u001b[0m\n\u001b[1;32m    891\u001b[0m             \u001b[0mlevel\u001b[0m\u001b[0;34m=\u001b[0m\u001b[0mlevel\u001b[0m\u001b[0;34m,\u001b[0m\u001b[0;34m\u001b[0m\u001b[0;34m\u001b[0m\u001b[0m\n\u001b[1;32m    892\u001b[0m             \u001b[0mreturn_indexers\u001b[0m\u001b[0;34m=\u001b[0m\u001b[0mreturn_indexers\u001b[0m\u001b[0;34m,\u001b[0m\u001b[0;34m\u001b[0m\u001b[0;34m\u001b[0m\u001b[0m\n\u001b[0;32m--> 893\u001b[0;31m             \u001b[0msort\u001b[0m\u001b[0;34m=\u001b[0m\u001b[0msort\u001b[0m\u001b[0;34m,\u001b[0m\u001b[0;34m\u001b[0m\u001b[0;34m\u001b[0m\u001b[0m\n\u001b[0m\u001b[1;32m    894\u001b[0m         )\n\u001b[1;32m    895\u001b[0m \u001b[0;34m\u001b[0m\u001b[0m\n",
      "\u001b[0;32m/usr/local/lib/python3.7/dist-packages/pandas/core/indexes/base.py\u001b[0m in \u001b[0;36mjoin\u001b[0;34m(self, other, how, level, return_indexers, sort)\u001b[0m\n\u001b[1;32m   3484\u001b[0m             \u001b[0mthis\u001b[0m \u001b[0;34m=\u001b[0m \u001b[0mself\u001b[0m\u001b[0;34m.\u001b[0m\u001b[0mastype\u001b[0m\u001b[0;34m(\u001b[0m\u001b[0;34m\"O\"\u001b[0m\u001b[0;34m)\u001b[0m\u001b[0;34m\u001b[0m\u001b[0;34m\u001b[0m\u001b[0m\n\u001b[1;32m   3485\u001b[0m             \u001b[0mother\u001b[0m \u001b[0;34m=\u001b[0m \u001b[0mother\u001b[0m\u001b[0;34m.\u001b[0m\u001b[0mastype\u001b[0m\u001b[0;34m(\u001b[0m\u001b[0;34m\"O\"\u001b[0m\u001b[0;34m)\u001b[0m\u001b[0;34m\u001b[0m\u001b[0;34m\u001b[0m\u001b[0m\n\u001b[0;32m-> 3486\u001b[0;31m             \u001b[0;32mreturn\u001b[0m \u001b[0mthis\u001b[0m\u001b[0;34m.\u001b[0m\u001b[0mjoin\u001b[0m\u001b[0;34m(\u001b[0m\u001b[0mother\u001b[0m\u001b[0;34m,\u001b[0m \u001b[0mhow\u001b[0m\u001b[0;34m=\u001b[0m\u001b[0mhow\u001b[0m\u001b[0;34m,\u001b[0m \u001b[0mreturn_indexers\u001b[0m\u001b[0;34m=\u001b[0m\u001b[0mreturn_indexers\u001b[0m\u001b[0;34m)\u001b[0m\u001b[0;34m\u001b[0m\u001b[0;34m\u001b[0m\u001b[0m\n\u001b[0m\u001b[1;32m   3487\u001b[0m \u001b[0;34m\u001b[0m\u001b[0m\n\u001b[1;32m   3488\u001b[0m         \u001b[0m_validate_join_method\u001b[0m\u001b[0;34m(\u001b[0m\u001b[0mhow\u001b[0m\u001b[0;34m)\u001b[0m\u001b[0;34m\u001b[0m\u001b[0;34m\u001b[0m\u001b[0m\n",
      "\u001b[0;32m/usr/local/lib/python3.7/dist-packages/pandas/core/indexes/base.py\u001b[0m in \u001b[0;36mjoin\u001b[0;34m(self, other, how, level, return_indexers, sort)\u001b[0m\n\u001b[1;32m   3495\u001b[0m             \u001b[0;32mif\u001b[0m \u001b[0mself\u001b[0m\u001b[0;34m.\u001b[0m\u001b[0mis_monotonic\u001b[0m \u001b[0;32mand\u001b[0m \u001b[0mother\u001b[0m\u001b[0;34m.\u001b[0m\u001b[0mis_monotonic\u001b[0m\u001b[0;34m:\u001b[0m\u001b[0;34m\u001b[0m\u001b[0;34m\u001b[0m\u001b[0m\n\u001b[1;32m   3496\u001b[0m                 return self._join_monotonic(\n\u001b[0;32m-> 3497\u001b[0;31m                     \u001b[0mother\u001b[0m\u001b[0;34m,\u001b[0m \u001b[0mhow\u001b[0m\u001b[0;34m=\u001b[0m\u001b[0mhow\u001b[0m\u001b[0;34m,\u001b[0m \u001b[0mreturn_indexers\u001b[0m\u001b[0;34m=\u001b[0m\u001b[0mreturn_indexers\u001b[0m\u001b[0;34m\u001b[0m\u001b[0;34m\u001b[0m\u001b[0m\n\u001b[0m\u001b[1;32m   3498\u001b[0m                 )\n\u001b[1;32m   3499\u001b[0m             \u001b[0;32melse\u001b[0m\u001b[0;34m:\u001b[0m\u001b[0;34m\u001b[0m\u001b[0;34m\u001b[0m\u001b[0m\n",
      "\u001b[0;32m/usr/local/lib/python3.7/dist-packages/pandas/core/indexes/base.py\u001b[0m in \u001b[0;36m_join_monotonic\u001b[0;34m(self, other, how, return_indexers)\u001b[0m\n\u001b[1;32m   3822\u001b[0m                 \u001b[0mjoin_index\u001b[0m\u001b[0;34m,\u001b[0m \u001b[0mlidx\u001b[0m\u001b[0;34m,\u001b[0m \u001b[0mridx\u001b[0m \u001b[0;34m=\u001b[0m \u001b[0mself\u001b[0m\u001b[0;34m.\u001b[0m\u001b[0m_inner_indexer\u001b[0m\u001b[0;34m(\u001b[0m\u001b[0msv\u001b[0m\u001b[0;34m,\u001b[0m \u001b[0mov\u001b[0m\u001b[0;34m)\u001b[0m\u001b[0;34m\u001b[0m\u001b[0;34m\u001b[0m\u001b[0m\n\u001b[1;32m   3823\u001b[0m             \u001b[0;32melif\u001b[0m \u001b[0mhow\u001b[0m \u001b[0;34m==\u001b[0m \u001b[0;34m\"outer\"\u001b[0m\u001b[0;34m:\u001b[0m\u001b[0;34m\u001b[0m\u001b[0;34m\u001b[0m\u001b[0m\n\u001b[0;32m-> 3824\u001b[0;31m                 \u001b[0mjoin_index\u001b[0m\u001b[0;34m,\u001b[0m \u001b[0mlidx\u001b[0m\u001b[0;34m,\u001b[0m \u001b[0mridx\u001b[0m \u001b[0;34m=\u001b[0m \u001b[0mself\u001b[0m\u001b[0;34m.\u001b[0m\u001b[0m_outer_indexer\u001b[0m\u001b[0;34m(\u001b[0m\u001b[0msv\u001b[0m\u001b[0;34m,\u001b[0m \u001b[0mov\u001b[0m\u001b[0;34m)\u001b[0m\u001b[0;34m\u001b[0m\u001b[0;34m\u001b[0m\u001b[0m\n\u001b[0m\u001b[1;32m   3825\u001b[0m             \u001b[0mjoin_index\u001b[0m \u001b[0;34m=\u001b[0m \u001b[0mself\u001b[0m\u001b[0;34m.\u001b[0m\u001b[0m_wrap_joined_index\u001b[0m\u001b[0;34m(\u001b[0m\u001b[0mjoin_index\u001b[0m\u001b[0;34m,\u001b[0m \u001b[0mother\u001b[0m\u001b[0;34m)\u001b[0m\u001b[0;34m\u001b[0m\u001b[0;34m\u001b[0m\u001b[0m\n\u001b[1;32m   3826\u001b[0m \u001b[0;34m\u001b[0m\u001b[0m\n",
      "\u001b[0;32m/usr/local/lib/python3.7/dist-packages/pandas/core/indexes/base.py\u001b[0m in \u001b[0;36m_outer_indexer\u001b[0;34m(self, left, right)\u001b[0m\n\u001b[1;32m    261\u001b[0m \u001b[0;34m\u001b[0m\u001b[0m\n\u001b[1;32m    262\u001b[0m     \u001b[0;32mdef\u001b[0m \u001b[0m_outer_indexer\u001b[0m\u001b[0;34m(\u001b[0m\u001b[0mself\u001b[0m\u001b[0;34m,\u001b[0m \u001b[0mleft\u001b[0m\u001b[0;34m,\u001b[0m \u001b[0mright\u001b[0m\u001b[0;34m)\u001b[0m\u001b[0;34m:\u001b[0m\u001b[0;34m\u001b[0m\u001b[0;34m\u001b[0m\u001b[0m\n\u001b[0;32m--> 263\u001b[0;31m         \u001b[0;32mreturn\u001b[0m \u001b[0mlibjoin\u001b[0m\u001b[0;34m.\u001b[0m\u001b[0mouter_join_indexer\u001b[0m\u001b[0;34m(\u001b[0m\u001b[0mleft\u001b[0m\u001b[0;34m,\u001b[0m \u001b[0mright\u001b[0m\u001b[0;34m)\u001b[0m\u001b[0;34m\u001b[0m\u001b[0;34m\u001b[0m\u001b[0m\n\u001b[0m\u001b[1;32m    264\u001b[0m \u001b[0;34m\u001b[0m\u001b[0m\n\u001b[1;32m    265\u001b[0m     \u001b[0m_typ\u001b[0m \u001b[0;34m=\u001b[0m \u001b[0;34m\"index\"\u001b[0m\u001b[0;34m\u001b[0m\u001b[0;34m\u001b[0m\u001b[0m\n",
      "\u001b[0;32mpandas/_libs/join.pyx\u001b[0m in \u001b[0;36mpandas._libs.join.outer_join_indexer\u001b[0;34m()\u001b[0m\n",
      "\u001b[0;31mTypeError\u001b[0m: '<' not supported between instances of 'Timestamp' and 'str'"
     ]
    }
   ],
   "source": [
    "sp_indicators.create_features()"
   ]
  },
  {
   "cell_type": "code",
   "execution_count": null,
   "metadata": {
    "colab": {
     "base_uri": "https://localhost:8080/",
     "height": 235
    },
    "id": "5035aXCtDukA",
    "outputId": "54dbe40c-4387-47d4-90ed-9c6be74a9d71"
   },
   "outputs": [
    {
     "data": {
      "text/html": [
       "<div>\n",
       "<style scoped>\n",
       "    .dataframe tbody tr th:only-of-type {\n",
       "        vertical-align: middle;\n",
       "    }\n",
       "\n",
       "    .dataframe tbody tr th {\n",
       "        vertical-align: top;\n",
       "    }\n",
       "\n",
       "    .dataframe thead th {\n",
       "        text-align: right;\n",
       "    }\n",
       "</style>\n",
       "<table border=\"1\" class=\"dataframe\">\n",
       "  <thead>\n",
       "    <tr style=\"text-align: right;\">\n",
       "      <th></th>\n",
       "      <th>Open</th>\n",
       "      <th>Close</th>\n",
       "      <th>Low</th>\n",
       "      <th>High</th>\n",
       "      <th>Low</th>\n",
       "      <th>Volume</th>\n",
       "      <th>Net</th>\n",
       "    </tr>\n",
       "    <tr>\n",
       "      <th>Exchange Date</th>\n",
       "      <th></th>\n",
       "      <th></th>\n",
       "      <th></th>\n",
       "      <th></th>\n",
       "      <th></th>\n",
       "      <th></th>\n",
       "      <th></th>\n",
       "    </tr>\n",
       "  </thead>\n",
       "  <tbody>\n",
       "    <tr>\n",
       "      <th>2010-01-04</th>\n",
       "      <td>112.615618</td>\n",
       "      <td>113.494413</td>\n",
       "      <td>112.555700</td>\n",
       "      <td>113.584290</td>\n",
       "      <td>112.555700</td>\n",
       "      <td>3574136</td>\n",
       "      <td>NaN</td>\n",
       "    </tr>\n",
       "    <tr>\n",
       "      <th>2010-01-05</th>\n",
       "      <td>113.464454</td>\n",
       "      <td>113.823961</td>\n",
       "      <td>113.094961</td>\n",
       "      <td>113.873893</td>\n",
       "      <td>113.094961</td>\n",
       "      <td>2784094</td>\n",
       "      <td>0.329548</td>\n",
       "    </tr>\n",
       "    <tr>\n",
       "      <th>2010-01-06</th>\n",
       "      <td>113.734085</td>\n",
       "      <td>113.913838</td>\n",
       "      <td>113.634221</td>\n",
       "      <td>114.183469</td>\n",
       "      <td>113.634221</td>\n",
       "      <td>3912789</td>\n",
       "      <td>0.089877</td>\n",
       "    </tr>\n",
       "    <tr>\n",
       "      <th>2010-01-07</th>\n",
       "      <td>113.714112</td>\n",
       "      <td>114.413154</td>\n",
       "      <td>113.394550</td>\n",
       "      <td>114.513017</td>\n",
       "      <td>113.394550</td>\n",
       "      <td>2977514</td>\n",
       "      <td>0.499315</td>\n",
       "    </tr>\n",
       "    <tr>\n",
       "      <th>2010-01-08</th>\n",
       "      <td>114.073619</td>\n",
       "      <td>114.802620</td>\n",
       "      <td>113.853920</td>\n",
       "      <td>114.812606</td>\n",
       "      <td>113.853920</td>\n",
       "      <td>2887536</td>\n",
       "      <td>0.389466</td>\n",
       "    </tr>\n",
       "  </tbody>\n",
       "</table>\n",
       "</div>"
      ],
      "text/plain": [
       "                     Open       Close  ...   Volume       Net\n",
       "Exchange Date                          ...                   \n",
       "2010-01-04     112.615618  113.494413  ...  3574136       NaN\n",
       "2010-01-05     113.464454  113.823961  ...  2784094  0.329548\n",
       "2010-01-06     113.734085  113.913838  ...  3912789  0.089877\n",
       "2010-01-07     113.714112  114.413154  ...  2977514  0.499315\n",
       "2010-01-08     114.073619  114.802620  ...  2887536  0.389466\n",
       "\n",
       "[5 rows x 7 columns]"
      ]
     },
     "execution_count": 20,
     "metadata": {},
     "output_type": "execute_result"
    }
   ],
   "source": [
    "sp_prices.head()"
   ]
  },
  {
   "cell_type": "code",
   "execution_count": null,
   "metadata": {
    "id": "KPtn8xVsFDGT"
   },
   "outputs": [],
   "source": []
  }
 ],
 "metadata": {
  "colab": {
   "collapsed_sections": [],
   "name": "Thesis_v1.ipynb",
   "provenance": []
  },
  "kernelspec": {
   "display_name": "Python 3",
   "language": "python",
   "name": "python3"
  },
  "language_info": {
   "codemirror_mode": {
    "name": "ipython",
    "version": 3
   },
   "file_extension": ".py",
   "mimetype": "text/x-python",
   "name": "python",
   "nbconvert_exporter": "python",
   "pygments_lexer": "ipython3",
   "version": "3.8.3"
  }
 },
 "nbformat": 4,
 "nbformat_minor": 1
}
