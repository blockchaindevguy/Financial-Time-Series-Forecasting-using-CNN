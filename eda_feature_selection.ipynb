{
 "cells": [
  {
   "cell_type": "code",
   "execution_count": 1,
   "metadata": {},
   "outputs": [],
   "source": [
    "import pandas as pd\n",
    "import numpy as np\n",
    "import matplotlib.pyplot as plt\n",
    "import seaborn as sns"
   ]
  },
  {
   "cell_type": "markdown",
   "metadata": {},
   "source": [
    "https://etfdb.com/etf/VGT/#etf-ticker-profile"
   ]
  },
  {
   "cell_type": "code",
   "execution_count": 2,
   "metadata": {},
   "outputs": [],
   "source": [
    "data = pd.read_csv(\"VGT_historical_data.csv\", names=[\"date\", \"close\", \"open\", \"high\", \"low\", \"volume\", \"change%\"], skiprows=1)"
   ]
  },
  {
   "cell_type": "code",
   "execution_count": 3,
   "metadata": {},
   "outputs": [],
   "source": [
    "data['date']= pd.to_datetime(data['date'])\n",
    "data['vol_unit'] = data['volume'].str[-1]\n",
    "data['volume'] = data['volume'].str[:-1]\n",
    "data['volume'] = pd.to_numeric(data['volume'])\n",
    "data['volume'] = np.where((data['vol_unit']==\"K\"),data[\"volume\"]*1000, data[\"volume\"]*1000000)\n",
    "data.drop(\"vol_unit\", axis = 1, inplace = True)\n",
    "data['change%'] = data['change%'].str[:-1]\n",
    "data['change%'] = pd.to_numeric(data['change%'])"
   ]
  },
  {
   "cell_type": "code",
   "execution_count": 4,
   "metadata": {},
   "outputs": [
    {
     "data": {
      "text/html": [
       "<div>\n",
       "<style scoped>\n",
       "    .dataframe tbody tr th:only-of-type {\n",
       "        vertical-align: middle;\n",
       "    }\n",
       "\n",
       "    .dataframe tbody tr th {\n",
       "        vertical-align: top;\n",
       "    }\n",
       "\n",
       "    .dataframe thead th {\n",
       "        text-align: right;\n",
       "    }\n",
       "</style>\n",
       "<table border=\"1\" class=\"dataframe\">\n",
       "  <thead>\n",
       "    <tr style=\"text-align: right;\">\n",
       "      <th></th>\n",
       "      <th>close</th>\n",
       "      <th>open</th>\n",
       "      <th>high</th>\n",
       "      <th>low</th>\n",
       "      <th>volume</th>\n",
       "      <th>change%</th>\n",
       "    </tr>\n",
       "    <tr>\n",
       "      <th>date</th>\n",
       "      <th></th>\n",
       "      <th></th>\n",
       "      <th></th>\n",
       "      <th></th>\n",
       "      <th></th>\n",
       "      <th></th>\n",
       "    </tr>\n",
       "  </thead>\n",
       "  <tbody>\n",
       "    <tr>\n",
       "      <th>2019-12-31</th>\n",
       "      <td>244.85</td>\n",
       "      <td>243.31</td>\n",
       "      <td>245.05</td>\n",
       "      <td>243.00</td>\n",
       "      <td>374330.0</td>\n",
       "      <td>0.27</td>\n",
       "    </tr>\n",
       "    <tr>\n",
       "      <th>2019-12-30</th>\n",
       "      <td>244.18</td>\n",
       "      <td>245.50</td>\n",
       "      <td>245.63</td>\n",
       "      <td>242.10</td>\n",
       "      <td>507140.0</td>\n",
       "      <td>-0.59</td>\n",
       "    </tr>\n",
       "    <tr>\n",
       "      <th>2019-12-27</th>\n",
       "      <td>245.64</td>\n",
       "      <td>246.71</td>\n",
       "      <td>246.75</td>\n",
       "      <td>244.93</td>\n",
       "      <td>349470.0</td>\n",
       "      <td>-0.04</td>\n",
       "    </tr>\n",
       "    <tr>\n",
       "      <th>2019-12-26</th>\n",
       "      <td>245.73</td>\n",
       "      <td>244.32</td>\n",
       "      <td>245.73</td>\n",
       "      <td>244.32</td>\n",
       "      <td>301470.0</td>\n",
       "      <td>0.77</td>\n",
       "    </tr>\n",
       "    <tr>\n",
       "      <th>2019-12-24</th>\n",
       "      <td>243.85</td>\n",
       "      <td>244.10</td>\n",
       "      <td>244.24</td>\n",
       "      <td>243.27</td>\n",
       "      <td>234600.0</td>\n",
       "      <td>0.01</td>\n",
       "    </tr>\n",
       "    <tr>\n",
       "      <th>...</th>\n",
       "      <td>...</td>\n",
       "      <td>...</td>\n",
       "      <td>...</td>\n",
       "      <td>...</td>\n",
       "      <td>...</td>\n",
       "      <td>...</td>\n",
       "    </tr>\n",
       "    <tr>\n",
       "      <th>2009-01-08</th>\n",
       "      <td>35.56</td>\n",
       "      <td>35.23</td>\n",
       "      <td>35.59</td>\n",
       "      <td>34.82</td>\n",
       "      <td>258470.0</td>\n",
       "      <td>0.85</td>\n",
       "    </tr>\n",
       "    <tr>\n",
       "      <th>2009-01-07</th>\n",
       "      <td>35.26</td>\n",
       "      <td>35.86</td>\n",
       "      <td>35.89</td>\n",
       "      <td>35.07</td>\n",
       "      <td>283090.0</td>\n",
       "      <td>-3.42</td>\n",
       "    </tr>\n",
       "    <tr>\n",
       "      <th>2009-01-06</th>\n",
       "      <td>36.51</td>\n",
       "      <td>35.83</td>\n",
       "      <td>36.92</td>\n",
       "      <td>35.83</td>\n",
       "      <td>396380.0</td>\n",
       "      <td>3.14</td>\n",
       "    </tr>\n",
       "    <tr>\n",
       "      <th>2009-01-05</th>\n",
       "      <td>35.40</td>\n",
       "      <td>35.16</td>\n",
       "      <td>35.85</td>\n",
       "      <td>35.00</td>\n",
       "      <td>218430.0</td>\n",
       "      <td>-0.06</td>\n",
       "    </tr>\n",
       "    <tr>\n",
       "      <th>2009-01-02</th>\n",
       "      <td>35.42</td>\n",
       "      <td>34.11</td>\n",
       "      <td>35.52</td>\n",
       "      <td>34.01</td>\n",
       "      <td>112910.0</td>\n",
       "      <td>4.02</td>\n",
       "    </tr>\n",
       "  </tbody>\n",
       "</table>\n",
       "<p>2768 rows × 6 columns</p>\n",
       "</div>"
      ],
      "text/plain": [
       "             close    open    high     low    volume  change%\n",
       "date                                                         \n",
       "2019-12-31  244.85  243.31  245.05  243.00  374330.0     0.27\n",
       "2019-12-30  244.18  245.50  245.63  242.10  507140.0    -0.59\n",
       "2019-12-27  245.64  246.71  246.75  244.93  349470.0    -0.04\n",
       "2019-12-26  245.73  244.32  245.73  244.32  301470.0     0.77\n",
       "2019-12-24  243.85  244.10  244.24  243.27  234600.0     0.01\n",
       "...            ...     ...     ...     ...       ...      ...\n",
       "2009-01-08   35.56   35.23   35.59   34.82  258470.0     0.85\n",
       "2009-01-07   35.26   35.86   35.89   35.07  283090.0    -3.42\n",
       "2009-01-06   36.51   35.83   36.92   35.83  396380.0     3.14\n",
       "2009-01-05   35.40   35.16   35.85   35.00  218430.0    -0.06\n",
       "2009-01-02   35.42   34.11   35.52   34.01  112910.0     4.02\n",
       "\n",
       "[2768 rows x 6 columns]"
      ]
     },
     "execution_count": 4,
     "metadata": {},
     "output_type": "execute_result"
    }
   ],
   "source": [
    "data.set_index(\"date\") # inplace = True"
   ]
  },
  {
   "cell_type": "code",
   "execution_count": 5,
   "metadata": {},
   "outputs": [
    {
     "name": "stdout",
     "output_type": "stream",
     "text": [
      "<class 'pandas.core.frame.DataFrame'>\n",
      "RangeIndex: 2768 entries, 0 to 2767\n",
      "Data columns (total 7 columns):\n",
      " #   Column   Non-Null Count  Dtype         \n",
      "---  ------   --------------  -----         \n",
      " 0   date     2768 non-null   datetime64[ns]\n",
      " 1   close    2768 non-null   float64       \n",
      " 2   open     2768 non-null   float64       \n",
      " 3   high     2768 non-null   float64       \n",
      " 4   low      2768 non-null   float64       \n",
      " 5   volume   2768 non-null   float64       \n",
      " 6   change%  2768 non-null   float64       \n",
      "dtypes: datetime64[ns](1), float64(6)\n",
      "memory usage: 151.5 KB\n"
     ]
    }
   ],
   "source": [
    "data.info(show_counts= True)"
   ]
  },
  {
   "cell_type": "code",
   "execution_count": 6,
   "metadata": {},
   "outputs": [
    {
     "data": {
      "text/html": [
       "<div>\n",
       "<style scoped>\n",
       "    .dataframe tbody tr th:only-of-type {\n",
       "        vertical-align: middle;\n",
       "    }\n",
       "\n",
       "    .dataframe tbody tr th {\n",
       "        vertical-align: top;\n",
       "    }\n",
       "\n",
       "    .dataframe thead th {\n",
       "        text-align: right;\n",
       "    }\n",
       "</style>\n",
       "<table border=\"1\" class=\"dataframe\">\n",
       "  <thead>\n",
       "    <tr style=\"text-align: right;\">\n",
       "      <th></th>\n",
       "      <th>close</th>\n",
       "      <th>open</th>\n",
       "      <th>high</th>\n",
       "      <th>low</th>\n",
       "      <th>volume</th>\n",
       "      <th>change%</th>\n",
       "    </tr>\n",
       "  </thead>\n",
       "  <tbody>\n",
       "    <tr>\n",
       "      <th>count</th>\n",
       "      <td>2768.000000</td>\n",
       "      <td>2768.000000</td>\n",
       "      <td>2768.000000</td>\n",
       "      <td>2768.000000</td>\n",
       "      <td>2.768000e+03</td>\n",
       "      <td>2768.000000</td>\n",
       "    </tr>\n",
       "    <tr>\n",
       "      <th>mean</th>\n",
       "      <td>105.478707</td>\n",
       "      <td>105.469169</td>\n",
       "      <td>106.084064</td>\n",
       "      <td>104.759892</td>\n",
       "      <td>3.469331e+05</td>\n",
       "      <td>0.078450</td>\n",
       "    </tr>\n",
       "    <tr>\n",
       "      <th>std</th>\n",
       "      <td>51.862243</td>\n",
       "      <td>51.851941</td>\n",
       "      <td>52.126107</td>\n",
       "      <td>51.544791</td>\n",
       "      <td>3.312650e+05</td>\n",
       "      <td>1.191584</td>\n",
       "    </tr>\n",
       "    <tr>\n",
       "      <th>min</th>\n",
       "      <td>29.360000</td>\n",
       "      <td>29.590000</td>\n",
       "      <td>30.410000</td>\n",
       "      <td>29.130000</td>\n",
       "      <td>4.860000e+04</td>\n",
       "      <td>-6.080000</td>\n",
       "    </tr>\n",
       "    <tr>\n",
       "      <th>25%</th>\n",
       "      <td>64.177500</td>\n",
       "      <td>64.127500</td>\n",
       "      <td>64.525000</td>\n",
       "      <td>63.727500</td>\n",
       "      <td>1.768325e+05</td>\n",
       "      <td>-0.480000</td>\n",
       "    </tr>\n",
       "    <tr>\n",
       "      <th>50%</th>\n",
       "      <td>95.670000</td>\n",
       "      <td>95.485000</td>\n",
       "      <td>96.090000</td>\n",
       "      <td>95.205000</td>\n",
       "      <td>2.693700e+05</td>\n",
       "      <td>0.130000</td>\n",
       "    </tr>\n",
       "    <tr>\n",
       "      <th>75%</th>\n",
       "      <td>134.810000</td>\n",
       "      <td>134.767500</td>\n",
       "      <td>135.210000</td>\n",
       "      <td>134.267500</td>\n",
       "      <td>4.040675e+05</td>\n",
       "      <td>0.680000</td>\n",
       "    </tr>\n",
       "    <tr>\n",
       "      <th>max</th>\n",
       "      <td>245.730000</td>\n",
       "      <td>246.710000</td>\n",
       "      <td>246.750000</td>\n",
       "      <td>244.930000</td>\n",
       "      <td>6.560000e+06</td>\n",
       "      <td>6.170000</td>\n",
       "    </tr>\n",
       "  </tbody>\n",
       "</table>\n",
       "</div>"
      ],
      "text/plain": [
       "             close         open         high          low        volume  \\\n",
       "count  2768.000000  2768.000000  2768.000000  2768.000000  2.768000e+03   \n",
       "mean    105.478707   105.469169   106.084064   104.759892  3.469331e+05   \n",
       "std      51.862243    51.851941    52.126107    51.544791  3.312650e+05   \n",
       "min      29.360000    29.590000    30.410000    29.130000  4.860000e+04   \n",
       "25%      64.177500    64.127500    64.525000    63.727500  1.768325e+05   \n",
       "50%      95.670000    95.485000    96.090000    95.205000  2.693700e+05   \n",
       "75%     134.810000   134.767500   135.210000   134.267500  4.040675e+05   \n",
       "max     245.730000   246.710000   246.750000   244.930000  6.560000e+06   \n",
       "\n",
       "           change%  \n",
       "count  2768.000000  \n",
       "mean      0.078450  \n",
       "std       1.191584  \n",
       "min      -6.080000  \n",
       "25%      -0.480000  \n",
       "50%       0.130000  \n",
       "75%       0.680000  \n",
       "max       6.170000  "
      ]
     },
     "execution_count": 6,
     "metadata": {},
     "output_type": "execute_result"
    }
   ],
   "source": [
    "data.describe()"
   ]
  },
  {
   "cell_type": "code",
   "execution_count": 7,
   "metadata": {},
   "outputs": [
    {
     "name": "stdout",
     "output_type": "stream",
     "text": [
      "Missing Values:  363\n"
     ]
    }
   ],
   "source": [
    "missing_vals = len(pd.date_range(start=\"2009-01-01\", end=\"2020-12-31\", freq=\"B\" ).difference(data['date']))\n",
    "print(\"Missing Values: \", missing_vals)"
   ]
  },
  {
   "cell_type": "markdown",
   "metadata": {},
   "source": [
    "## EDA"
   ]
  },
  {
   "cell_type": "code",
   "execution_count": 8,
   "metadata": {},
   "outputs": [
    {
     "data": {
      "image/png": "[encoded data removed]",
      "text/plain": [
       "<Figure size 864x576 with 1 Axes>"
      ]
     },
     "metadata": {
      "needs_background": "light"
     },
     "output_type": "display_data"
    }
   ],
   "source": [
    "plt.figure(figsize=(12, 8))\n",
    "plt.plot(data.date, data[[\"open\", \"close\", \"high\", \"low\"]])\n",
    "plt.legend([\"open\", \"close\", \"high\", \"low\"])\n",
    "plt.xlabel(\"date\")\n",
    "plt.ylabel(\"price in USD\")\n",
    "plt.title(\"OHLC from 2009 to 2019\")\n",
    "plt.show()"
   ]
  },
  {
   "cell_type": "code",
   "execution_count": 9,
   "metadata": {},
   "outputs": [
    {
     "data": {
      "image/png": "[encoded data removed]",
      "text/plain": [
       "<Figure size 864x576 with 1 Axes>"
      ]
     },
     "metadata": {
      "needs_background": "light"
     },
     "output_type": "display_data"
    }
   ],
   "source": [
    "plt.figure(figsize=(12, 8))\n",
    "plt.hist(data.volume, bins = 100)\n",
    "plt.title(\"Volume Distribution\")\n",
    "plt.xlabel(\"volume\")\n",
    "plt.ylabel(\"count\")\n",
    "plt.ticklabel_format(style='plain')\n",
    "plt.show()"
   ]
  },
  {
   "cell_type": "code",
   "execution_count": 10,
   "metadata": {},
   "outputs": [
    {
     "data": {
      "image/png": "[encoded data removed]",
      "text/plain": [
       "<Figure size 864x576 with 1 Axes>"
      ]
     },
     "metadata": {
      "needs_background": "light"
     },
     "output_type": "display_data"
    }
   ],
   "source": [
    "plt.figure(figsize=(12, 8))\n",
    "plt.hist(data[\"change%\"], bins = 100)\n",
    "plt.title(\"Percent Change Distribution\")\n",
    "plt.xlabel(\"change in %\")\n",
    "plt.ylabel(\"count\")\n",
    "plt.ticklabel_format(style='plain')\n",
    "plt.show()"
   ]
  },
  {
   "cell_type": "code",
   "execution_count": 169,
   "metadata": {},
   "outputs": [
    {
     "data": {
      "text/html": [
       "<div>\n",
       "<style scoped>\n",
       "    .dataframe tbody tr th:only-of-type {\n",
       "        vertical-align: middle;\n",
       "    }\n",
       "\n",
       "    .dataframe tbody tr th {\n",
       "        vertical-align: top;\n",
       "    }\n",
       "\n",
       "    .dataframe thead th {\n",
       "        text-align: right;\n",
       "    }\n",
       "</style>\n",
       "<table border=\"1\" class=\"dataframe\">\n",
       "  <thead>\n",
       "    <tr style=\"text-align: right;\">\n",
       "      <th></th>\n",
       "      <th>close</th>\n",
       "      <th>open</th>\n",
       "      <th>high</th>\n",
       "      <th>low</th>\n",
       "      <th>volume</th>\n",
       "      <th>change%</th>\n",
       "    </tr>\n",
       "  </thead>\n",
       "  <tbody>\n",
       "    <tr>\n",
       "      <th>0</th>\n",
       "      <td>2.687822</td>\n",
       "      <td>2.658835</td>\n",
       "      <td>2.666438</td>\n",
       "      <td>2.682426</td>\n",
       "      <td>0.082719</td>\n",
       "      <td>0.160781</td>\n",
       "    </tr>\n",
       "    <tr>\n",
       "      <th>1</th>\n",
       "      <td>2.674901</td>\n",
       "      <td>2.701078</td>\n",
       "      <td>2.677567</td>\n",
       "      <td>2.664962</td>\n",
       "      <td>0.483709</td>\n",
       "      <td>-0.561078</td>\n",
       "    </tr>\n",
       "    <tr>\n",
       "      <th>2</th>\n",
       "      <td>2.703057</td>\n",
       "      <td>2.724418</td>\n",
       "      <td>2.699057</td>\n",
       "      <td>2.719876</td>\n",
       "      <td>0.007660</td>\n",
       "      <td>-0.099424</td>\n",
       "    </tr>\n",
       "    <tr>\n",
       "      <th>3</th>\n",
       "      <td>2.704793</td>\n",
       "      <td>2.678317</td>\n",
       "      <td>2.679486</td>\n",
       "      <td>2.708039</td>\n",
       "      <td>-0.137266</td>\n",
       "      <td>0.580467</td>\n",
       "    </tr>\n",
       "    <tr>\n",
       "      <th>4</th>\n",
       "      <td>2.668537</td>\n",
       "      <td>2.674073</td>\n",
       "      <td>2.650896</td>\n",
       "      <td>2.687665</td>\n",
       "      <td>-0.339165</td>\n",
       "      <td>-0.057455</td>\n",
       "    </tr>\n",
       "    <tr>\n",
       "      <th>...</th>\n",
       "      <td>...</td>\n",
       "      <td>...</td>\n",
       "      <td>...</td>\n",
       "      <td>...</td>\n",
       "      <td>...</td>\n",
       "      <td>...</td>\n",
       "    </tr>\n",
       "    <tr>\n",
       "      <th>2763</th>\n",
       "      <td>-1.348406</td>\n",
       "      <td>-1.354855</td>\n",
       "      <td>-1.352620</td>\n",
       "      <td>-1.357121</td>\n",
       "      <td>-0.267095</td>\n",
       "      <td>0.647616</td>\n",
       "    </tr>\n",
       "    <tr>\n",
       "      <th>2764</th>\n",
       "      <td>-1.354191</td>\n",
       "      <td>-1.342703</td>\n",
       "      <td>-1.346863</td>\n",
       "      <td>-1.352270</td>\n",
       "      <td>-0.192760</td>\n",
       "      <td>-2.936497</td>\n",
       "    </tr>\n",
       "    <tr>\n",
       "      <th>2765</th>\n",
       "      <td>-1.330085</td>\n",
       "      <td>-1.343281</td>\n",
       "      <td>-1.327100</td>\n",
       "      <td>-1.337523</td>\n",
       "      <td>0.149294</td>\n",
       "      <td>2.569775</td>\n",
       "    </tr>\n",
       "    <tr>\n",
       "      <th>2766</th>\n",
       "      <td>-1.351491</td>\n",
       "      <td>-1.356205</td>\n",
       "      <td>-1.347631</td>\n",
       "      <td>-1.353628</td>\n",
       "      <td>-0.387987</td>\n",
       "      <td>-0.116211</td>\n",
       "    </tr>\n",
       "    <tr>\n",
       "      <th>2767</th>\n",
       "      <td>-1.351106</td>\n",
       "      <td>-1.376459</td>\n",
       "      <td>-1.353963</td>\n",
       "      <td>-1.372839</td>\n",
       "      <td>-0.706581</td>\n",
       "      <td>3.308422</td>\n",
       "    </tr>\n",
       "  </tbody>\n",
       "</table>\n",
       "<p>2768 rows × 6 columns</p>\n",
       "</div>"
      ],
      "text/plain": [
       "         close      open      high       low    volume   change%\n",
       "0     2.687822  2.658835  2.666438  2.682426  0.082719  0.160781\n",
       "1     2.674901  2.701078  2.677567  2.664962  0.483709 -0.561078\n",
       "2     2.703057  2.724418  2.699057  2.719876  0.007660 -0.099424\n",
       "3     2.704793  2.678317  2.679486  2.708039 -0.137266  0.580467\n",
       "4     2.668537  2.674073  2.650896  2.687665 -0.339165 -0.057455\n",
       "...        ...       ...       ...       ...       ...       ...\n",
       "2763 -1.348406 -1.354855 -1.352620 -1.357121 -0.267095  0.647616\n",
       "2764 -1.354191 -1.342703 -1.346863 -1.352270 -0.192760 -2.936497\n",
       "2765 -1.330085 -1.343281 -1.327100 -1.337523  0.149294  2.569775\n",
       "2766 -1.351491 -1.356205 -1.347631 -1.353628 -0.387987 -0.116211\n",
       "2767 -1.351106 -1.376459 -1.353963 -1.372839 -0.706581  3.308422\n",
       "\n",
       "[2768 rows x 6 columns]"
      ]
     },
     "execution_count": 169,
     "metadata": {},
     "output_type": "execute_result"
    }
   ],
   "source": [
    "normalized_data"
   ]
  },
  {
   "cell_type": "code",
   "execution_count": 84,
   "metadata": {},
   "outputs": [
    {
     "data": {
      "text/plain": [
       "Text(0.5, 1.0, 'Correlation Matrix')"
      ]
     },
     "execution_count": 84,
     "metadata": {},
     "output_type": "execute_result"
    },
    {
     "data": {
      "image/png": "[encoded data removed]",
      "text/plain": [
       "<Figure size 792x648 with 2 Axes>"
      ]
     },
     "metadata": {
      "needs_background": "light"
     },
     "output_type": "display_data"
    }
   ],
   "source": [
    "# Compute the correlation matrix\n",
    "corr = data.corr()\n",
    "\n",
    "# Generate a mask for the upper triangle\n",
    "mask = np.triu(np.ones_like(corr, dtype=bool))\n",
    "f, ax = plt.subplots(figsize=(11, 9))\n",
    "\n",
    "# Draw the heatmap with the mask and correct aspect ratio\n",
    "sns.heatmap(corr, mask = mask, annot=True,square=True, linewidths=.5).set_title('Correlation Matrix')"
   ]
  },
  {
   "cell_type": "markdown",
   "metadata": {},
   "source": [
    "## Train Test Split"
   ]
  },
  {
   "cell_type": "code",
   "execution_count": 186,
   "metadata": {},
   "outputs": [],
   "source": [
    "# should be done BEFORE feature selection \n",
    "# Training set should be "
   ]
  },
  {
   "cell_type": "markdown",
   "metadata": {},
   "source": [
    "## Feature Selection"
   ]
  },
  {
   "cell_type": "code",
   "execution_count": null,
   "metadata": {},
   "outputs": [],
   "source": [
    "# use correlation to eliminate similar features"
   ]
  },
  {
   "cell_type": "code",
   "execution_count": 177,
   "metadata": {},
   "outputs": [],
   "source": [
    "def create_row_for_each_picture(days = 15 , sliding_window = 10, data = data):\n",
    "    images = np.arange(0,len(data)-days, sliding_window) #starting date of each image \n",
    "    \n",
    "    # create column names for each day for each varibale \n",
    "    indicator_per_day = []\n",
    "    for indicator in data.columns[1:]:\n",
    "        for day in range(days): # 15 days\n",
    "            i = indicator + \"_\" + str(day)\n",
    "            indicator_per_day.append(i)    \n",
    "    \n",
    "    # create row with all historical data for each picture (e.g. one row contains last 15 closing prices, opening prices, etc.)\n",
    "    # create label\n",
    "    data_incl_label = pd.DataFrame()\n",
    "    index = []\n",
    "    y_labels = []\n",
    "    for image in images: \n",
    "        variables = []\n",
    "        for var in data.columns[1:]:\n",
    "            variables.extend(data[var].iloc[image:image+days]) \n",
    "        index.append(data[\"date\"].iloc[image+days])\n",
    "        y = [\"win\" if data.close.iloc[image+days-1]< data.open.iloc[image+days] else \"loss\"] # what if equal? \n",
    "        y_labels.extend(y)\n",
    "        data_incl_label = data_incl_label.append([variables])\n",
    "    data_incl_label.columns=indicator_per_day\n",
    "    data_incl_label.index = index \n",
    "    \n",
    "    return data_incl_label, y_labels"
   ]
  },
  {
   "cell_type": "code",
   "execution_count": 93,
   "metadata": {},
   "outputs": [
    {
     "data": {
      "text/html": [
       "<div>\n",
       "<style scoped>\n",
       "    .dataframe tbody tr th:only-of-type {\n",
       "        vertical-align: middle;\n",
       "    }\n",
       "\n",
       "    .dataframe tbody tr th {\n",
       "        vertical-align: top;\n",
       "    }\n",
       "\n",
       "    .dataframe thead th {\n",
       "        text-align: right;\n",
       "    }\n",
       "</style>\n",
       "<table border=\"1\" class=\"dataframe\">\n",
       "  <thead>\n",
       "    <tr style=\"text-align: right;\">\n",
       "      <th></th>\n",
       "      <th>close_0</th>\n",
       "      <th>close_1</th>\n",
       "      <th>close_2</th>\n",
       "      <th>close_3</th>\n",
       "      <th>close_4</th>\n",
       "      <th>close_5</th>\n",
       "      <th>close_6</th>\n",
       "      <th>close_7</th>\n",
       "      <th>close_8</th>\n",
       "      <th>close_9</th>\n",
       "      <th>...</th>\n",
       "      <th>change%_5</th>\n",
       "      <th>change%_6</th>\n",
       "      <th>change%_7</th>\n",
       "      <th>change%_8</th>\n",
       "      <th>change%_9</th>\n",
       "      <th>change%_10</th>\n",
       "      <th>change%_11</th>\n",
       "      <th>change%_12</th>\n",
       "      <th>change%_13</th>\n",
       "      <th>change%_14</th>\n",
       "    </tr>\n",
       "  </thead>\n",
       "  <tbody>\n",
       "    <tr>\n",
       "      <th>2019-12-09</th>\n",
       "      <td>244.85</td>\n",
       "      <td>244.18</td>\n",
       "      <td>245.64</td>\n",
       "      <td>245.73</td>\n",
       "      <td>243.85</td>\n",
       "      <td>243.83</td>\n",
       "      <td>243.01</td>\n",
       "      <td>241.66</td>\n",
       "      <td>240.08</td>\n",
       "      <td>240.00</td>\n",
       "      <td>...</td>\n",
       "      <td>0.34</td>\n",
       "      <td>0.56</td>\n",
       "      <td>0.66</td>\n",
       "      <td>0.03</td>\n",
       "      <td>-0.19</td>\n",
       "      <td>0.62</td>\n",
       "      <td>0.65</td>\n",
       "      <td>0.97</td>\n",
       "      <td>0.66</td>\n",
       "      <td>-0.04</td>\n",
       "    </tr>\n",
       "    <tr>\n",
       "      <th>2019-11-22</th>\n",
       "      <td>240.46</td>\n",
       "      <td>238.97</td>\n",
       "      <td>237.43</td>\n",
       "      <td>235.14</td>\n",
       "      <td>233.60</td>\n",
       "      <td>233.70</td>\n",
       "      <td>234.91</td>\n",
       "      <td>232.36</td>\n",
       "      <td>231.72</td>\n",
       "      <td>230.94</td>\n",
       "      <td>...</td>\n",
       "      <td>-0.52</td>\n",
       "      <td>1.10</td>\n",
       "      <td>0.28</td>\n",
       "      <td>0.34</td>\n",
       "      <td>-0.79</td>\n",
       "      <td>-1.42</td>\n",
       "      <td>-0.42</td>\n",
       "      <td>0.62</td>\n",
       "      <td>0.06</td>\n",
       "      <td>1.47</td>\n",
       "    </tr>\n",
       "    <tr>\n",
       "      <th>2019-11-08</th>\n",
       "      <td>232.79</td>\n",
       "      <td>236.15</td>\n",
       "      <td>237.15</td>\n",
       "      <td>235.69</td>\n",
       "      <td>235.56</td>\n",
       "      <td>232.15</td>\n",
       "      <td>232.21</td>\n",
       "      <td>233.48</td>\n",
       "      <td>234.71</td>\n",
       "      <td>233.94</td>\n",
       "      <td>...</td>\n",
       "      <td>-0.03</td>\n",
       "      <td>-0.54</td>\n",
       "      <td>-0.52</td>\n",
       "      <td>0.33</td>\n",
       "      <td>0.24</td>\n",
       "      <td>0.83</td>\n",
       "      <td>-0.12</td>\n",
       "      <td>0.22</td>\n",
       "      <td>0.32</td>\n",
       "      <td>0.13</td>\n",
       "    </tr>\n",
       "    <tr>\n",
       "      <th>2019-10-25</th>\n",
       "      <td>233.39</td>\n",
       "      <td>231.46</td>\n",
       "      <td>231.74</td>\n",
       "      <td>231.22</td>\n",
       "      <td>230.49</td>\n",
       "      <td>230.20</td>\n",
       "      <td>228.97</td>\n",
       "      <td>227.13</td>\n",
       "      <td>227.36</td>\n",
       "      <td>227.58</td>\n",
       "      <td>...</td>\n",
       "      <td>0.54</td>\n",
       "      <td>0.81</td>\n",
       "      <td>-0.10</td>\n",
       "      <td>-0.10</td>\n",
       "      <td>0.45</td>\n",
       "      <td>1.30</td>\n",
       "      <td>-0.12</td>\n",
       "      <td>0.67</td>\n",
       "      <td>-0.81</td>\n",
       "      <td>1.15</td>\n",
       "    </tr>\n",
       "    <tr>\n",
       "      <th>2019-10-11</th>\n",
       "      <td>226.55</td>\n",
       "      <td>223.64</td>\n",
       "      <td>223.90</td>\n",
       "      <td>222.40</td>\n",
       "      <td>224.22</td>\n",
       "      <td>221.68</td>\n",
       "      <td>219.04</td>\n",
       "      <td>215.74</td>\n",
       "      <td>215.52</td>\n",
       "      <td>218.48</td>\n",
       "      <td>...</td>\n",
       "      <td>1.21</td>\n",
       "      <td>1.53</td>\n",
       "      <td>0.10</td>\n",
       "      <td>-1.35</td>\n",
       "      <td>1.00</td>\n",
       "      <td>-1.06</td>\n",
       "      <td>-0.10</td>\n",
       "      <td>-0.87</td>\n",
       "      <td>1.04</td>\n",
       "      <td>-0.00</td>\n",
       "    </tr>\n",
       "  </tbody>\n",
       "</table>\n",
       "<p>5 rows × 90 columns</p>\n",
       "</div>"
      ],
      "text/plain": [
       "            close_0  close_1  close_2  close_3  close_4  close_5  close_6  \\\n",
       "2019-12-09   244.85   244.18   245.64   245.73   243.85   243.83   243.01   \n",
       "2019-11-22   240.46   238.97   237.43   235.14   233.60   233.70   234.91   \n",
       "2019-11-08   232.79   236.15   237.15   235.69   235.56   232.15   232.21   \n",
       "2019-10-25   233.39   231.46   231.74   231.22   230.49   230.20   228.97   \n",
       "2019-10-11   226.55   223.64   223.90   222.40   224.22   221.68   219.04   \n",
       "\n",
       "            close_7  close_8  close_9  ...  change%_5  change%_6  change%_7  \\\n",
       "2019-12-09   241.66   240.08   240.00  ...       0.34       0.56       0.66   \n",
       "2019-11-22   232.36   231.72   230.94  ...      -0.52       1.10       0.28   \n",
       "2019-11-08   233.48   234.71   233.94  ...      -0.03      -0.54      -0.52   \n",
       "2019-10-25   227.13   227.36   227.58  ...       0.54       0.81      -0.10   \n",
       "2019-10-11   215.74   215.52   218.48  ...       1.21       1.53       0.10   \n",
       "\n",
       "            change%_8  change%_9  change%_10  change%_11  change%_12  \\\n",
       "2019-12-09       0.03      -0.19        0.62        0.65        0.97   \n",
       "2019-11-22       0.34      -0.79       -1.42       -0.42        0.62   \n",
       "2019-11-08       0.33       0.24        0.83       -0.12        0.22   \n",
       "2019-10-25      -0.10       0.45        1.30       -0.12        0.67   \n",
       "2019-10-11      -1.35       1.00       -1.06       -0.10       -0.87   \n",
       "\n",
       "            change%_13  change%_14  \n",
       "2019-12-09        0.66       -0.04  \n",
       "2019-11-22        0.06        1.47  \n",
       "2019-11-08        0.32        0.13  \n",
       "2019-10-25       -0.81        1.15  \n",
       "2019-10-11        1.04       -0.00  \n",
       "\n",
       "[5 rows x 90 columns]"
      ]
     },
     "execution_count": 93,
     "metadata": {},
     "output_type": "execute_result"
    }
   ],
   "source": [
    "image_data, y_labels = create_row_for_each_picture()\n",
    "image_data.head()"
   ]
  },
  {
   "cell_type": "markdown",
   "metadata": {},
   "source": [
    "### Feature Importance "
   ]
  },
  {
   "cell_type": "markdown",
   "metadata": {},
   "source": [
    "Importantly, ANOVA is used when one variable is numeric and one is categorical, such as numerical input variables and a classification target variable in a classification task.\n",
    "\n",
    "The results of this test can be used for feature selection where those features that are independent of the target variable can be removed from the dataset.\n",
    "\n",
    "https://machinelearningmastery.com/feature-selection-with-numerical-input-data/"
   ]
  },
  {
   "cell_type": "markdown",
   "metadata": {},
   "source": [
    "h0 = no causality \n",
    "\n",
    "p really small => high probability of causality (reject h0)"
   ]
  },
  {
   "cell_type": "code",
   "execution_count": 95,
   "metadata": {},
   "outputs": [],
   "source": [
    "from sklearn.feature_selection import f_classif"
   ]
  },
  {
   "cell_type": "code",
   "execution_count": 184,
   "metadata": {},
   "outputs": [],
   "source": [
    "f_scores, p_scores = f_classif(image_data, y_labels)\n",
    "\n",
    "variables = data.columns[1:]\n",
    "f_scores_calc = {}\n",
    "p_scores_calc = {}\n",
    "\n",
    "for var in data.columns[1:]:\n",
    "    f_scores_calc[var] = np.mean(f_scores[:days])\n",
    "    f_scores = f_scores[days:]\n",
    "    \n",
    "    p_scores_calc[var] = np.mean(p_scores[:days])\n",
    "    p_scores = p_scores[days:]"
   ]
  },
  {
   "cell_type": "code",
   "execution_count": 145,
   "metadata": {},
   "outputs": [
    {
     "data": {
      "text/plain": [
       "{'close': 2.6785688510604833,\n",
       " 'open': 2.650211723356667,\n",
       " 'high': 2.597036483625182,\n",
       " 'low': 2.7339951794480744,\n",
       " 'volume': 0.2926375022563387,\n",
       " 'change%': 9.899109585177378}"
      ]
     },
     "execution_count": 145,
     "metadata": {},
     "output_type": "execute_result"
    }
   ],
   "source": [
    "f_scores_calc"
   ]
  },
  {
   "cell_type": "code",
   "execution_count": 146,
   "metadata": {},
   "outputs": [
    {
     "data": {
      "text/plain": [
       "{'close': 0.10292652435568951,\n",
       " 'open': 0.10541137424228333,\n",
       " 'high': 0.1084995646086613,\n",
       " 'low': 0.09960513620408772,\n",
       " 'volume': 0.7056290918280116,\n",
       " 'change%': 0.4866746471528247}"
      ]
     },
     "execution_count": 146,
     "metadata": {},
     "output_type": "execute_result"
    }
   ],
   "source": [
    "p_scores_calc"
   ]
  },
  {
   "cell_type": "markdown",
   "metadata": {},
   "source": [
    "### Correlation"
   ]
  },
  {
   "cell_type": "code",
   "execution_count": null,
   "metadata": {},
   "outputs": [],
   "source": [
    "# Janina "
   ]
  },
  {
   "cell_type": "markdown",
   "metadata": {},
   "source": [
    "### Normalization "
   ]
  },
  {
   "cell_type": "code",
   "execution_count": 173,
   "metadata": {},
   "outputs": [],
   "source": [
    "from sklearn.preprocessing import StandardScaler"
   ]
  },
  {
   "cell_type": "code",
   "execution_count": 179,
   "metadata": {},
   "outputs": [],
   "source": [
    "data.copy().drop(\"date\", axis=1)\n",
    "scaler = StandardScaler()\n",
    "normalized_data = data.copy().drop(\"date\", axis=1)\n",
    "column_names = normalized_data.columns\n",
    "normalized_data = scaler.fit_transform(normalized_data)\n",
    "normalized_data = pd.DataFrame(normalized_data, columns=column_names)\n",
    "normalized_data[\"date\"] = data[\"date\"]"
   ]
  },
  {
   "cell_type": "code",
   "execution_count": 180,
   "metadata": {},
   "outputs": [
    {
     "data": {
      "text/html": [
       "<div>\n",
       "<style scoped>\n",
       "    .dataframe tbody tr th:only-of-type {\n",
       "        vertical-align: middle;\n",
       "    }\n",
       "\n",
       "    .dataframe tbody tr th {\n",
       "        vertical-align: top;\n",
       "    }\n",
       "\n",
       "    .dataframe thead th {\n",
       "        text-align: right;\n",
       "    }\n",
       "</style>\n",
       "<table border=\"1\" class=\"dataframe\">\n",
       "  <thead>\n",
       "    <tr style=\"text-align: right;\">\n",
       "      <th></th>\n",
       "      <th>close</th>\n",
       "      <th>open</th>\n",
       "      <th>high</th>\n",
       "      <th>low</th>\n",
       "      <th>volume</th>\n",
       "      <th>change%</th>\n",
       "      <th>date</th>\n",
       "    </tr>\n",
       "  </thead>\n",
       "  <tbody>\n",
       "    <tr>\n",
       "      <th>0</th>\n",
       "      <td>2.687822</td>\n",
       "      <td>2.658835</td>\n",
       "      <td>2.666438</td>\n",
       "      <td>2.682426</td>\n",
       "      <td>0.082719</td>\n",
       "      <td>0.160781</td>\n",
       "      <td>2019-12-31</td>\n",
       "    </tr>\n",
       "    <tr>\n",
       "      <th>1</th>\n",
       "      <td>2.674901</td>\n",
       "      <td>2.701078</td>\n",
       "      <td>2.677567</td>\n",
       "      <td>2.664962</td>\n",
       "      <td>0.483709</td>\n",
       "      <td>-0.561078</td>\n",
       "      <td>2019-12-30</td>\n",
       "    </tr>\n",
       "    <tr>\n",
       "      <th>2</th>\n",
       "      <td>2.703057</td>\n",
       "      <td>2.724418</td>\n",
       "      <td>2.699057</td>\n",
       "      <td>2.719876</td>\n",
       "      <td>0.007660</td>\n",
       "      <td>-0.099424</td>\n",
       "      <td>2019-12-27</td>\n",
       "    </tr>\n",
       "    <tr>\n",
       "      <th>3</th>\n",
       "      <td>2.704793</td>\n",
       "      <td>2.678317</td>\n",
       "      <td>2.679486</td>\n",
       "      <td>2.708039</td>\n",
       "      <td>-0.137266</td>\n",
       "      <td>0.580467</td>\n",
       "      <td>2019-12-26</td>\n",
       "    </tr>\n",
       "    <tr>\n",
       "      <th>4</th>\n",
       "      <td>2.668537</td>\n",
       "      <td>2.674073</td>\n",
       "      <td>2.650896</td>\n",
       "      <td>2.687665</td>\n",
       "      <td>-0.339165</td>\n",
       "      <td>-0.057455</td>\n",
       "      <td>2019-12-24</td>\n",
       "    </tr>\n",
       "    <tr>\n",
       "      <th>...</th>\n",
       "      <td>...</td>\n",
       "      <td>...</td>\n",
       "      <td>...</td>\n",
       "      <td>...</td>\n",
       "      <td>...</td>\n",
       "      <td>...</td>\n",
       "      <td>...</td>\n",
       "    </tr>\n",
       "    <tr>\n",
       "      <th>2763</th>\n",
       "      <td>-1.348406</td>\n",
       "      <td>-1.354855</td>\n",
       "      <td>-1.352620</td>\n",
       "      <td>-1.357121</td>\n",
       "      <td>-0.267095</td>\n",
       "      <td>0.647616</td>\n",
       "      <td>2009-01-08</td>\n",
       "    </tr>\n",
       "    <tr>\n",
       "      <th>2764</th>\n",
       "      <td>-1.354191</td>\n",
       "      <td>-1.342703</td>\n",
       "      <td>-1.346863</td>\n",
       "      <td>-1.352270</td>\n",
       "      <td>-0.192760</td>\n",
       "      <td>-2.936497</td>\n",
       "      <td>2009-01-07</td>\n",
       "    </tr>\n",
       "    <tr>\n",
       "      <th>2765</th>\n",
       "      <td>-1.330085</td>\n",
       "      <td>-1.343281</td>\n",
       "      <td>-1.327100</td>\n",
       "      <td>-1.337523</td>\n",
       "      <td>0.149294</td>\n",
       "      <td>2.569775</td>\n",
       "      <td>2009-01-06</td>\n",
       "    </tr>\n",
       "    <tr>\n",
       "      <th>2766</th>\n",
       "      <td>-1.351491</td>\n",
       "      <td>-1.356205</td>\n",
       "      <td>-1.347631</td>\n",
       "      <td>-1.353628</td>\n",
       "      <td>-0.387987</td>\n",
       "      <td>-0.116211</td>\n",
       "      <td>2009-01-05</td>\n",
       "    </tr>\n",
       "    <tr>\n",
       "      <th>2767</th>\n",
       "      <td>-1.351106</td>\n",
       "      <td>-1.376459</td>\n",
       "      <td>-1.353963</td>\n",
       "      <td>-1.372839</td>\n",
       "      <td>-0.706581</td>\n",
       "      <td>3.308422</td>\n",
       "      <td>2009-01-02</td>\n",
       "    </tr>\n",
       "  </tbody>\n",
       "</table>\n",
       "<p>2768 rows × 7 columns</p>\n",
       "</div>"
      ],
      "text/plain": [
       "         close      open      high       low    volume   change%       date\n",
       "0     2.687822  2.658835  2.666438  2.682426  0.082719  0.160781 2019-12-31\n",
       "1     2.674901  2.701078  2.677567  2.664962  0.483709 -0.561078 2019-12-30\n",
       "2     2.703057  2.724418  2.699057  2.719876  0.007660 -0.099424 2019-12-27\n",
       "3     2.704793  2.678317  2.679486  2.708039 -0.137266  0.580467 2019-12-26\n",
       "4     2.668537  2.674073  2.650896  2.687665 -0.339165 -0.057455 2019-12-24\n",
       "...        ...       ...       ...       ...       ...       ...        ...\n",
       "2763 -1.348406 -1.354855 -1.352620 -1.357121 -0.267095  0.647616 2009-01-08\n",
       "2764 -1.354191 -1.342703 -1.346863 -1.352270 -0.192760 -2.936497 2009-01-07\n",
       "2765 -1.330085 -1.343281 -1.327100 -1.337523  0.149294  2.569775 2009-01-06\n",
       "2766 -1.351491 -1.356205 -1.347631 -1.353628 -0.387987 -0.116211 2009-01-05\n",
       "2767 -1.351106 -1.376459 -1.353963 -1.372839 -0.706581  3.308422 2009-01-02\n",
       "\n",
       "[2768 rows x 7 columns]"
      ]
     },
     "execution_count": 180,
     "metadata": {},
     "output_type": "execute_result"
    }
   ],
   "source": [
    "normalized_data"
   ]
  },
  {
   "cell_type": "code",
   "execution_count": null,
   "metadata": {},
   "outputs": [],
   "source": []
  }
 ],
 "metadata": {
  "kernelspec": {
   "display_name": "Python 3",
   "language": "python",
   "name": "python3"
  },
  "language_info": {
   "codemirror_mode": {
    "name": "ipython",
    "version": 3
   },
   "file_extension": ".py",
   "mimetype": "text/x-python",
   "name": "python",
   "nbconvert_exporter": "python",
   "pygments_lexer": "ipython3",
   "version": "3.8.5"
  }
 },
 "nbformat": 4,
 "nbformat_minor": 4
}
